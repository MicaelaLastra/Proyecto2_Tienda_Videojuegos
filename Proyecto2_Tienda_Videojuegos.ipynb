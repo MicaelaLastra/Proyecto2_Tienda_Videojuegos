{
 "cells": [
  {
   "cell_type": "markdown",
   "metadata": {},
   "source": [
    "# PROYECTO INTEGRADO PARA LA TIENDA ONLINE ICE"
   ]
  },
  {
   "cell_type": "markdown",
   "metadata": {},
   "source": [
    "Dentro del presete proyecto se analizarán los videojuegos que la tienda online Ice vende por todo el mundo, todo esto con el fin de identificar patrones que determinen si uno de los juegos analizados tiene éxito o no. \n",
    "\n",
    "Nuestro conjunto de datos se remonta al año 2016 y en base al analisis que realizaremos de los mismos, veremos la viabilidad de las campañas a realizar para el año 2017."
   ]
  },
  {
   "cell_type": "markdown",
   "metadata": {},
   "source": [
    "## Inicialización y carga de datos"
   ]
  },
  {
   "cell_type": "code",
   "execution_count": 42,
   "metadata": {
    "tags": [
     "e5c1f0c2-db9f-43a0-99b9-4875c52427e8"
    ]
   },
   "outputs": [],
   "source": [
    "# Cargamos todas las librerías que podamos llegar a utilizar\n",
    "import pandas as pd\n",
    "import matplotlib.pyplot as plt\n",
    "import numpy as np\n",
    "from scipy.stats import ttest_ind"
   ]
  },
  {
   "cell_type": "code",
   "execution_count": 43,
   "metadata": {},
   "outputs": [],
   "source": [
    "#Leemos nuestro dataset\n",
    "games= pd.read_csv(\"/datasets/games.csv\")"
   ]
  },
  {
   "cell_type": "code",
   "execution_count": 44,
   "metadata": {},
   "outputs": [
    {
     "name": "stdout",
     "output_type": "stream",
     "text": [
      "<class 'pandas.core.frame.DataFrame'>\n",
      "RangeIndex: 16715 entries, 0 to 16714\n",
      "Data columns (total 11 columns):\n",
      " #   Column           Non-Null Count  Dtype  \n",
      "---  ------           --------------  -----  \n",
      " 0   Name             16713 non-null  object \n",
      " 1   Platform         16715 non-null  object \n",
      " 2   Year_of_Release  16446 non-null  float64\n",
      " 3   Genre            16713 non-null  object \n",
      " 4   NA_sales         16715 non-null  float64\n",
      " 5   EU_sales         16715 non-null  float64\n",
      " 6   JP_sales         16715 non-null  float64\n",
      " 7   Other_sales      16715 non-null  float64\n",
      " 8   Critic_Score     8137 non-null   float64\n",
      " 9   User_Score       10014 non-null  object \n",
      " 10  Rating           9949 non-null   object \n",
      "dtypes: float64(6), object(5)\n",
      "memory usage: 1.4+ MB\n"
     ]
    }
   ],
   "source": [
    "#Revisamos la información general de nuestro dataset\n",
    "games.info()"
   ]
  },
  {
   "cell_type": "markdown",
   "metadata": {},
   "source": [
    "En primer lugar dentro de la realización de este proyecto, debemos cargar toda la información con la que vamos a trabajar, esto es nuestro dataset completo, al que le hemos asignado el nombre de **\"games\"**, dicho dataset está compuesto de 11 columnas referentes a: \n",
    "\n",
    "— Name (Nombre)\n",
    "\n",
    "— Platform (Plataforma)\n",
    "\n",
    "— Year_of_Release (Año de lanzamiento)\n",
    "\n",
    "— Genre (Género) \n",
    "\n",
    "— NA_sales (ventas en Norteamérica en millones de dólares estadounidenses) \n",
    "\n",
    "— EU_sales (ventas en Europa en millones de dólares estadounidenses) \n",
    "\n",
    "— JP_sales (ventas en Japón en millones de dólares estadounidenses) \n",
    "\n",
    "— Other_sales (ventas en otros países en millones de dólares estadounidenses) \n",
    "\n",
    "— Critic_Score (máximo de 100) \n",
    "\n",
    "— User_Score (máximo de 10) \n",
    "\n",
    "— Rating (ESRB)"
   ]
  },
  {
   "cell_type": "markdown",
   "metadata": {},
   "source": [
    "Como podemos visualizar dentro de nuestras columnas existen valores nulos en algunas de ellas, mismos que se trabajarán con detenimiento más adelante, asi como también el analisis de los tipos de datos de cada columna a fin de realizar los cambios si así lo creyeremos conveniente y el tratamiento de los valores ausentes que pudieran existir."
   ]
  },
  {
   "cell_type": "markdown",
   "metadata": {},
   "source": [
    "## Preparación de datos"
   ]
  },
  {
   "cell_type": "markdown",
   "metadata": {},
   "source": [
    "En primer lugar es importante tener orden de nuestras columnas y que todas ellas se acoplen a un solo formato, en este caso lo conveniente será poner todos los nombres de nuestra columnas en minúsculas:"
   ]
  },
  {
   "cell_type": "code",
   "execution_count": 45,
   "metadata": {},
   "outputs": [
    {
     "name": "stdout",
     "output_type": "stream",
     "text": [
      "Index(['name', 'platform', 'year_of_release', 'genre', 'na_sales', 'eu_sales',\n",
      "       'jp_sales', 'other_sales', 'critic_score', 'user_score', 'rating'],\n",
      "      dtype='object')\n"
     ]
    }
   ],
   "source": [
    "games.columns = [col.lower() for col in games.columns]\n",
    "\n",
    "print(games.columns)"
   ]
  },
  {
   "cell_type": "markdown",
   "metadata": {},
   "source": [
    "Con este cambio realizado, podemos continuar con el preprocesamiento de nuestros datos a continuación:"
   ]
  },
  {
   "cell_type": "markdown",
   "metadata": {},
   "source": [
    "### Tipos de datos"
   ]
  },
  {
   "cell_type": "code",
   "execution_count": 46,
   "metadata": {},
   "outputs": [
    {
     "name": "stdout",
     "output_type": "stream",
     "text": [
      "<class 'pandas.core.frame.DataFrame'>\n",
      "RangeIndex: 16715 entries, 0 to 16714\n",
      "Data columns (total 11 columns):\n",
      " #   Column           Non-Null Count  Dtype  \n",
      "---  ------           --------------  -----  \n",
      " 0   name             16713 non-null  object \n",
      " 1   platform         16715 non-null  object \n",
      " 2   year_of_release  16446 non-null  float64\n",
      " 3   genre            16713 non-null  object \n",
      " 4   na_sales         16715 non-null  float64\n",
      " 5   eu_sales         16715 non-null  float64\n",
      " 6   jp_sales         16715 non-null  float64\n",
      " 7   other_sales      16715 non-null  float64\n",
      " 8   critic_score     8137 non-null   float64\n",
      " 9   user_score       10014 non-null  object \n",
      " 10  rating           9949 non-null   object \n",
      "dtypes: float64(6), object(5)\n",
      "memory usage: 1.4+ MB\n"
     ]
    }
   ],
   "source": [
    "games.info()"
   ]
  },
  {
   "cell_type": "code",
   "execution_count": 47,
   "metadata": {},
   "outputs": [
    {
     "name": "stdout",
     "output_type": "stream",
     "text": [
      "<class 'pandas.core.frame.DataFrame'>\n",
      "RangeIndex: 16715 entries, 0 to 16714\n",
      "Data columns (total 11 columns):\n",
      " #   Column           Non-Null Count  Dtype  \n",
      "---  ------           --------------  -----  \n",
      " 0   name             16713 non-null  object \n",
      " 1   platform         16715 non-null  object \n",
      " 2   year_of_release  16446 non-null  Int64  \n",
      " 3   genre            16713 non-null  object \n",
      " 4   na_sales         16715 non-null  float64\n",
      " 5   eu_sales         16715 non-null  float64\n",
      " 6   jp_sales         16715 non-null  float64\n",
      " 7   other_sales      16715 non-null  float64\n",
      " 8   critic_score     8137 non-null   float64\n",
      " 9   user_score       7590 non-null   float64\n",
      " 10  rating           9949 non-null   object \n",
      "dtypes: Int64(1), float64(6), object(4)\n",
      "memory usage: 1.4+ MB\n",
      "None\n"
     ]
    }
   ],
   "source": [
    "# Convertimos year_of_release a entero\n",
    "games['year_of_release'] = games['year_of_release'].astype(\"Int64\")\n",
    "\n",
    "# Convertimos user_score a numérico en lugar porque tenemos ciertos strings \"TDB\"\n",
    "games['user_score'] = pd.to_numeric(games['user_score'], errors='coerce')\n",
    "\n",
    "\n",
    "# Revisar los tipos de datos después de nuestra conversión\n",
    "print(games.info())"
   ]
  },
  {
   "cell_type": "markdown",
   "metadata": {},
   "source": [
    "Realizamos este cambio en el tipo de datos de dos de nuestras columnas, en primer lugar no resultaba conveniente que la columna de **\"year_of_release\"** se encontrara como tipo de dato flotante ya que los años son valores discretos y no tienen sentido como decimales además de que dejandolos con ese tipo de dato se puede correr riesgo de introducir valores incorrectos o imprecisos, realizando este cambio se cuenta con una mayor eficacia para el analisis posterior.\n",
    "\n",
    "Por otro lado, respecto a la columna de **\"user_score\"** el cambio que realizamos de objeto a flotante tiene que ver con un tema de coherencia en los datos ya que esta columna debería contener valores numéricos que representan puntuaciones de usuarios, dichos valores nos serviran para calculos en nuestro analisis a futuro por lo que al mantenerlos con tipo de dato \"object\" esto nos generaría una serie de errores y entorpecerá nuestro analisis. \n",
    "\n",
    "Dentro de este punto es importante señalar también que al convertir la columna a numérico eliminamos el problema concerniete a las siglas TBD ya que estas automáticamente se convierten en valores ausentes y de esta manera podemos trabajar mejor con los datos."
   ]
  },
  {
   "cell_type": "markdown",
   "metadata": {},
   "source": [
    "### Valores nulos"
   ]
  },
  {
   "cell_type": "code",
   "execution_count": 48,
   "metadata": {},
   "outputs": [
    {
     "data": {
      "text/plain": [
       "name                  2\n",
       "platform              0\n",
       "year_of_release     269\n",
       "genre                 2\n",
       "na_sales              0\n",
       "eu_sales              0\n",
       "jp_sales              0\n",
       "other_sales           0\n",
       "critic_score       8578\n",
       "user_score         9125\n",
       "rating             6766\n",
       "dtype: int64"
      ]
     },
     "execution_count": 48,
     "metadata": {},
     "output_type": "execute_result"
    }
   ],
   "source": [
    "games.isna().sum()"
   ]
  },
  {
   "cell_type": "markdown",
   "metadata": {},
   "source": [
    "Aproximadamente el 1.61% del dataset games tiene valores ausentes en la columna \"year_of_release\", además aproximadamente el 0.012% tiene valores ausentes en las columnas \"name\" y \"genre\". Estos porcentajes son extremadamente bajos y pueden considerarse insignificantes en comparación con el tamaño total de nuestros datos por lo tanto lo mas conveniente en este caso sería eliminar estas filas."
   ]
  },
  {
   "cell_type": "code",
   "execution_count": 49,
   "metadata": {},
   "outputs": [
    {
     "data": {
      "text/plain": [
       "name                  0\n",
       "platform              0\n",
       "year_of_release       0\n",
       "genre                 0\n",
       "na_sales              0\n",
       "eu_sales              0\n",
       "jp_sales              0\n",
       "other_sales           0\n",
       "critic_score       8461\n",
       "user_score         8981\n",
       "rating             6676\n",
       "dtype: int64"
      ]
     },
     "execution_count": 49,
     "metadata": {},
     "output_type": "execute_result"
    }
   ],
   "source": [
    "# Eliminamos las filas con valores ausentes en year_of_release\n",
    "games.dropna(subset=['year_of_release'], inplace=True)\n",
    "games.dropna(subset=['name'], inplace=True)\n",
    "games.dropna(subset=['genre'], inplace=True)\n",
    "\n",
    "games.isna().sum()"
   ]
  },
  {
   "cell_type": "markdown",
   "metadata": {},
   "source": [
    "Ahora respecto a nuestras últimas 3 columnas podemos ver que se tienen valores ausentes considerables, aproximadamente el 51.34% del dataset games tiene valores ausentes en la columna critic_score, el 40.10% en la columna user_score, y el 40.48% en la columna rating. Estos porcentajes son significativos y representan una proporción considerable de nuestros datos, en este caso lo mejor sería dejarlas tal y como estan a fin de evitar realizar un sesgo en nuestra información consecuencia de una mala imputación de datos o de la eliminación de los mismos."
   ]
  },
  {
   "cell_type": "markdown",
   "metadata": {},
   "source": [
    "### Valores duplicados"
   ]
  },
  {
   "cell_type": "code",
   "execution_count": 50,
   "metadata": {},
   "outputs": [
    {
     "data": {
      "text/plain": [
       "0"
      ]
     },
     "execution_count": 50,
     "metadata": {},
     "output_type": "execute_result"
    }
   ],
   "source": [
    "games.duplicated().sum()"
   ]
  },
  {
   "cell_type": "markdown",
   "metadata": {},
   "source": [
    "Dentro de nuestro dataset no existen filas completamente duplicadas."
   ]
  },
  {
   "cell_type": "markdown",
   "metadata": {},
   "source": [
    "### Enriquecimiento de datos"
   ]
  },
  {
   "cell_type": "markdown",
   "metadata": {},
   "source": [
    "Dentro de este apartado calcularemos las ventas totales en todas las regiones para cada juego, dicho resultado lo implementaremos a nuestro dataset en una nueva columna llamada \"total_sales\"."
   ]
  },
  {
   "cell_type": "code",
   "execution_count": 51,
   "metadata": {},
   "outputs": [
    {
     "data": {
      "text/html": [
       "<div>\n",
       "<style scoped>\n",
       "    .dataframe tbody tr th:only-of-type {\n",
       "        vertical-align: middle;\n",
       "    }\n",
       "\n",
       "    .dataframe tbody tr th {\n",
       "        vertical-align: top;\n",
       "    }\n",
       "\n",
       "    .dataframe thead th {\n",
       "        text-align: right;\n",
       "    }\n",
       "</style>\n",
       "<table border=\"1\" class=\"dataframe\">\n",
       "  <thead>\n",
       "    <tr style=\"text-align: right;\">\n",
       "      <th></th>\n",
       "      <th>name</th>\n",
       "      <th>platform</th>\n",
       "      <th>year_of_release</th>\n",
       "      <th>genre</th>\n",
       "      <th>na_sales</th>\n",
       "      <th>eu_sales</th>\n",
       "      <th>jp_sales</th>\n",
       "      <th>other_sales</th>\n",
       "      <th>critic_score</th>\n",
       "      <th>user_score</th>\n",
       "      <th>rating</th>\n",
       "      <th>total_sales</th>\n",
       "    </tr>\n",
       "  </thead>\n",
       "  <tbody>\n",
       "    <tr>\n",
       "      <th>0</th>\n",
       "      <td>Wii Sports</td>\n",
       "      <td>Wii</td>\n",
       "      <td>2006</td>\n",
       "      <td>Sports</td>\n",
       "      <td>41.36</td>\n",
       "      <td>28.96</td>\n",
       "      <td>3.77</td>\n",
       "      <td>8.45</td>\n",
       "      <td>76.0</td>\n",
       "      <td>8.0</td>\n",
       "      <td>E</td>\n",
       "      <td>82.54</td>\n",
       "    </tr>\n",
       "    <tr>\n",
       "      <th>1</th>\n",
       "      <td>Super Mario Bros.</td>\n",
       "      <td>NES</td>\n",
       "      <td>1985</td>\n",
       "      <td>Platform</td>\n",
       "      <td>29.08</td>\n",
       "      <td>3.58</td>\n",
       "      <td>6.81</td>\n",
       "      <td>0.77</td>\n",
       "      <td>NaN</td>\n",
       "      <td>NaN</td>\n",
       "      <td>NaN</td>\n",
       "      <td>40.24</td>\n",
       "    </tr>\n",
       "    <tr>\n",
       "      <th>2</th>\n",
       "      <td>Mario Kart Wii</td>\n",
       "      <td>Wii</td>\n",
       "      <td>2008</td>\n",
       "      <td>Racing</td>\n",
       "      <td>15.68</td>\n",
       "      <td>12.76</td>\n",
       "      <td>3.79</td>\n",
       "      <td>3.29</td>\n",
       "      <td>82.0</td>\n",
       "      <td>8.3</td>\n",
       "      <td>E</td>\n",
       "      <td>35.52</td>\n",
       "    </tr>\n",
       "    <tr>\n",
       "      <th>3</th>\n",
       "      <td>Wii Sports Resort</td>\n",
       "      <td>Wii</td>\n",
       "      <td>2009</td>\n",
       "      <td>Sports</td>\n",
       "      <td>15.61</td>\n",
       "      <td>10.93</td>\n",
       "      <td>3.28</td>\n",
       "      <td>2.95</td>\n",
       "      <td>80.0</td>\n",
       "      <td>8.0</td>\n",
       "      <td>E</td>\n",
       "      <td>32.77</td>\n",
       "    </tr>\n",
       "    <tr>\n",
       "      <th>4</th>\n",
       "      <td>Pokemon Red/Pokemon Blue</td>\n",
       "      <td>GB</td>\n",
       "      <td>1996</td>\n",
       "      <td>Role-Playing</td>\n",
       "      <td>11.27</td>\n",
       "      <td>8.89</td>\n",
       "      <td>10.22</td>\n",
       "      <td>1.00</td>\n",
       "      <td>NaN</td>\n",
       "      <td>NaN</td>\n",
       "      <td>NaN</td>\n",
       "      <td>31.38</td>\n",
       "    </tr>\n",
       "  </tbody>\n",
       "</table>\n",
       "</div>"
      ],
      "text/plain": [
       "                       name platform  year_of_release         genre  na_sales  \\\n",
       "0                Wii Sports      Wii             2006        Sports     41.36   \n",
       "1         Super Mario Bros.      NES             1985      Platform     29.08   \n",
       "2            Mario Kart Wii      Wii             2008        Racing     15.68   \n",
       "3         Wii Sports Resort      Wii             2009        Sports     15.61   \n",
       "4  Pokemon Red/Pokemon Blue       GB             1996  Role-Playing     11.27   \n",
       "\n",
       "   eu_sales  jp_sales  other_sales  critic_score  user_score rating  \\\n",
       "0     28.96      3.77         8.45          76.0         8.0      E   \n",
       "1      3.58      6.81         0.77           NaN         NaN    NaN   \n",
       "2     12.76      3.79         3.29          82.0         8.3      E   \n",
       "3     10.93      3.28         2.95          80.0         8.0      E   \n",
       "4      8.89     10.22         1.00           NaN         NaN    NaN   \n",
       "\n",
       "   total_sales  \n",
       "0        82.54  \n",
       "1        40.24  \n",
       "2        35.52  \n",
       "3        32.77  \n",
       "4        31.38  "
      ]
     },
     "execution_count": 51,
     "metadata": {},
     "output_type": "execute_result"
    }
   ],
   "source": [
    "games['total_sales'] = games[['na_sales', 'eu_sales', 'jp_sales', 'other_sales']].sum(axis=1)\n",
    "games.head()"
   ]
  },
  {
   "cell_type": "markdown",
   "metadata": {},
   "source": [
    "Una vez que se ha realizado el trabajo de preprocesar el dataset, continuaremos con el siguiente punto dentro de este proyecto:"
   ]
  },
  {
   "cell_type": "markdown",
   "metadata": {},
   "source": [
    "## Analisis de datos"
   ]
  },
  {
   "cell_type": "markdown",
   "metadata": {},
   "source": [
    "### Mira cuántos juegos fueron lanzados en diferentes años. ¿Son significativos los datos de cada período?"
   ]
  },
  {
   "cell_type": "code",
   "execution_count": 52,
   "metadata": {},
   "outputs": [
    {
     "name": "stdout",
     "output_type": "stream",
     "text": [
      "Nro. de juegos lanzados por año:\n",
      "1980       9\n",
      "1981      46\n",
      "1982      36\n",
      "1983      17\n",
      "1984      14\n",
      "1985      14\n",
      "1986      21\n",
      "1987      16\n",
      "1988      15\n",
      "1989      17\n",
      "1990      16\n",
      "1991      41\n",
      "1992      43\n",
      "1993      60\n",
      "1994     121\n",
      "1995     219\n",
      "1996     263\n",
      "1997     289\n",
      "1998     379\n",
      "1999     338\n",
      "2000     350\n",
      "2001     482\n",
      "2002     829\n",
      "2003     775\n",
      "2004     762\n",
      "2005     939\n",
      "2006    1006\n",
      "2007    1197\n",
      "2008    1427\n",
      "2009    1426\n",
      "2010    1255\n",
      "2011    1136\n",
      "2012     653\n",
      "2013     544\n",
      "2014     581\n",
      "2015     606\n",
      "2016     502\n",
      "Name: year_of_release, dtype: Int64\n"
     ]
    }
   ],
   "source": [
    "# El primer paso es contar el número de juegos lanzados por año\n",
    "release_counts = games['year_of_release'].value_counts().sort_index()\n",
    "print(\"Nro. de juegos lanzados por año:\")\n",
    "print(release_counts)"
   ]
  },
  {
   "cell_type": "code",
   "execution_count": 53,
   "metadata": {},
   "outputs": [
    {
     "name": "stdout",
     "output_type": "stream",
     "text": [
      "\n",
      "Porcentaje de juegos lanzados por año:\n",
      "1980    0.054731\n",
      "1981    0.279737\n",
      "1982    0.218925\n",
      "1983    0.103381\n",
      "1984    0.085137\n",
      "1985    0.085137\n",
      "1986    0.127706\n",
      "1987      0.0973\n",
      "1988    0.091219\n",
      "1989    0.103381\n",
      "1990      0.0973\n",
      "1991    0.249331\n",
      "1992    0.261494\n",
      "1993    0.364875\n",
      "1994    0.735831\n",
      "1995    1.331793\n",
      "1996    1.599368\n",
      "1997     1.75748\n",
      "1998    2.304792\n",
      "1999    2.055461\n",
      "2000    2.128436\n",
      "2001     2.93116\n",
      "2002    5.041352\n",
      "2003    4.712965\n",
      "2004    4.633909\n",
      "2005    5.710289\n",
      "2006    6.117733\n",
      "2007    7.279251\n",
      "2008    8.677937\n",
      "2009    8.671856\n",
      "2010    7.631963\n",
      "2011    6.908295\n",
      "2012    3.971053\n",
      "2013    3.308198\n",
      "2014    3.533204\n",
      "2015    3.685235\n",
      "2016    3.052785\n",
      "Name: year_of_release, dtype: Float64\n"
     ]
    }
   ],
   "source": [
    "# calcular el porcentaje de juegos lanzados por año para añadir un plus a nuestro analisis\n",
    "total_games = len(games)\n",
    "release_percentages = (release_counts / total_games) * 100\n",
    "\n",
    "print(\"\\nPorcentaje de juegos lanzados por año:\")\n",
    "print(release_percentages)"
   ]
  },
  {
   "cell_type": "markdown",
   "metadata": {},
   "source": [
    "¿Son significativos los datos de cada período?\n",
    "\n",
    "De las celdas anteriores hemos podido observar que la cantidad de datos o juegos que contiene cada uno de los años varia entre ciertos años y otros, en el caso de los años 1980 - 1992 notamos que estos años tienen muy pocos lanzamientos y no son significativos de manera independiente, respecto a los años 1993 - 2001, la de lanzamientos comienza a ser más significativa, especialmente en los últimos años de este rango, 2001 por ejemplo tuvo un lanzamiento de 482 videojuegos. Del 2002 al 2012: observamos una gran cantidad de lanzamientos y estos si son muy representativos y significativos para nuestro análisis. Del 2013 al 2016 notamos una disminución en los lanzamientos, estos años aún tienen datos suficientes para ser considerados significativos, pero la tendencia decreciente es algo que debemos tener en cuenta."
   ]
  },
  {
   "cell_type": "markdown",
   "metadata": {},
   "source": [
    "### Observar cómo varían las ventas de una plataforma a otra. Elegir las plataformas con las mayores ventas totales y construir una distribución basada en los datos de cada año. Buscar las plataformas que solían ser populares pero que ahora no tienen ventas. ¿Cuánto tardan generalmente las nuevas plataformas en aparecer y las antiguas en desaparecer?"
   ]
  },
  {
   "cell_type": "code",
   "execution_count": 54,
   "metadata": {},
   "outputs": [
    {
     "name": "stdout",
     "output_type": "stream",
     "text": [
      "platform\n",
      "PS2     1233.56\n",
      "X360     961.24\n",
      "PS3      931.34\n",
      "Wii      891.18\n",
      "DS       802.78\n",
      "PS       727.58\n",
      "PS4      314.14\n",
      "GBA      312.88\n",
      "PSP      289.53\n",
      "3DS      257.81\n",
      "PC       255.76\n",
      "GB       254.43\n",
      "XB       251.57\n",
      "NES      251.05\n",
      "N64      218.01\n",
      "SNES     200.04\n",
      "GC       196.73\n",
      "XOne     159.32\n",
      "2600      86.48\n",
      "WiiU      82.19\n",
      "PSV       53.81\n",
      "SAT       33.59\n",
      "GEN       28.35\n",
      "DC        15.95\n",
      "SCD        1.86\n",
      "NG         1.44\n",
      "WS         1.42\n",
      "TG16       0.16\n",
      "3DO        0.10\n",
      "GG         0.04\n",
      "PCFX       0.03\n",
      "Name: total_sales, dtype: float64\n"
     ]
    }
   ],
   "source": [
    "#sacamos el total de ventas en todas las regiones por plataforma\n",
    "platform_sales = games.groupby('platform')['total_sales'].sum().sort_values(ascending=False)\n",
    "print(platform_sales)"
   ]
  },
  {
   "cell_type": "code",
   "execution_count": 55,
   "metadata": {},
   "outputs": [
    {
     "name": "stdout",
     "output_type": "stream",
     "text": [
      "Index(['PS2', 'X360', 'PS3', 'Wii', 'DS', 'PS'], dtype='object', name='platform')\n"
     ]
    }
   ],
   "source": [
    "#identificamos las plataformas con mayores ventas\n",
    "top_platforms = platform_sales.head(6).index\n",
    "print(top_platforms)"
   ]
  },
  {
   "cell_type": "code",
   "execution_count": 56,
   "metadata": {},
   "outputs": [
    {
     "data": {
      "image/png": "[encoded data removed]",
      "text/plain": [
       "<Figure size 1100x500 with 1 Axes>"
      ]
     },
     "metadata": {},
     "output_type": "display_data"
    }
   ],
   "source": [
    "#construimos una distribución basada en los datos de cada año de las plataformas con mayores ventas. \n",
    "\n",
    "#incluimos solo nuestro top de plataformas\n",
    "games_top_platforms = games[games['platform'].isin(top_platforms)]\n",
    "\n",
    "# Agrupamos por año y plataforma, y sumamos las ventas\n",
    "annual_sales = games_top_platforms.groupby(['year_of_release', 'platform'])['total_sales'].sum().unstack()\n",
    "\n",
    "# Creamos un gráfico de la distribución anual de ventas\n",
    "annual_sales.plot(kind='bar', figsize=(11, 5))\n",
    "plt.title('Distribución Anual de Ventas por Plataforma (6 con mayores ventas)')\n",
    "plt.xlabel('Año de Lanzamiento')\n",
    "plt.ylabel('Ventas Totales')\n",
    "plt.legend(title='Plataforma')\n",
    "plt.show()\n"
   ]
  },
  {
   "cell_type": "code",
   "execution_count": 57,
   "metadata": {},
   "outputs": [
    {
     "name": "stdout",
     "output_type": "stream",
     "text": [
      "Plataformas populares sin ventas recientes: ['PS2', 'PS']\n"
     ]
    }
   ],
   "source": [
    "#Identificamos las plataformas que fueron populares pero que ya no tienen ventas\n",
    "\n",
    "# Definimos el año límite reciente para nuestro analisis (en este caso 5 años atras)\n",
    "recent_year_limit = 2011\n",
    "\n",
    "# Filtramos\n",
    "recent_sales = games[games['year_of_release'] > recent_year_limit]\n",
    "platforms_with_recent_sales = recent_sales['platform'].unique()\n",
    "\n",
    "# Identificamos plataformas populares que no tienen ventas recientes\n",
    "platforms_no_recent_sales = [platform for platform in top_platforms if platform not in platforms_with_recent_sales]\n",
    "\n",
    "print(\"Plataformas populares sin ventas recientes:\", platforms_no_recent_sales)"
   ]
  },
  {
   "cell_type": "markdown",
   "metadata": {},
   "source": [
    "¿Cuánto tardan generalmente las nuevas plataformas en aparecer y las antiguas en desaparecer?"
   ]
  },
  {
   "cell_type": "code",
   "execution_count": 58,
   "metadata": {},
   "outputs": [
    {
     "name": "stdout",
     "output_type": "stream",
     "text": [
      "Aparición de las nuevas plataformas: 1997.6451612903227\n",
      "Desaparición de las antiguas plataformas: 2005.258064516129\n",
      "Duración promedio de todas las plataformas: 7.612903225806452\n"
     ]
    }
   ],
   "source": [
    "# Calculamos la duración de las nuevas plataformas\n",
    "earliest_appearances = games.groupby('platform')['year_of_release'].min()\n",
    "average_new_platform_appearance = earliest_appearances.mean()\n",
    "\n",
    "# Calculamos la duración de las antiguas plataformas\n",
    "latest_appearances = games.groupby('platform')['year_of_release'].max()\n",
    "average_old_platform_appearance = latest_appearances.mean()\n",
    "\n",
    "# Calculamos la duración típica de todas las plataformas\n",
    "platform_durations = latest_appearances - earliest_appearances\n",
    "average_platform_duration = platform_durations.mean()\n",
    "\n",
    "print(\"Aparición de las nuevas plataformas:\", average_new_platform_appearance)\n",
    "print(\"Desaparición de las antiguas plataformas:\", average_old_platform_appearance)\n",
    "print(\"Duración promedio de todas las plataformas:\", average_platform_duration)\n"
   ]
  },
  {
   "cell_type": "markdown",
   "metadata": {},
   "source": [
    "Los resultados que hemos obtenido indican lo siguiente:\n",
    "\n",
    "El valor 1997.65 significa que, en promedio, las nuevas plataformas suelen aparecer en el mercado alrededor del año 1997. Mientras que en el caso de las antiguas plataformas: El valor 2005.26 indica que, en promedio, las antiguas plataformas suelen desaparecer del mercado alrededor del año 2005. \n",
    "\n",
    "El valor de 7.61 representa la duración promedio de todas las plataformas, es decir que en promedio cada plataforma tiene un ciclo de vida en el mercado de 7 años."
   ]
  },
  {
   "cell_type": "markdown",
   "metadata": {},
   "source": [
    "### Determinar para qué período tomamos los datos."
   ]
  },
  {
   "cell_type": "markdown",
   "metadata": {},
   "source": [
    "En base a todo el analisis que hemos realizado, lo recomendable sería trabajar con los datos a partir del año 2001 ya que desde este año la muestra de lanzamientos comienza a ser más significativa."
   ]
  },
  {
   "cell_type": "code",
   "execution_count": 59,
   "metadata": {},
   "outputs": [
    {
     "data": {
      "text/html": [
       "<div>\n",
       "<style scoped>\n",
       "    .dataframe tbody tr th:only-of-type {\n",
       "        vertical-align: middle;\n",
       "    }\n",
       "\n",
       "    .dataframe tbody tr th {\n",
       "        vertical-align: top;\n",
       "    }\n",
       "\n",
       "    .dataframe thead th {\n",
       "        text-align: right;\n",
       "    }\n",
       "</style>\n",
       "<table border=\"1\" class=\"dataframe\">\n",
       "  <thead>\n",
       "    <tr style=\"text-align: right;\">\n",
       "      <th></th>\n",
       "      <th>name</th>\n",
       "      <th>platform</th>\n",
       "      <th>year_of_release</th>\n",
       "      <th>genre</th>\n",
       "      <th>na_sales</th>\n",
       "      <th>eu_sales</th>\n",
       "      <th>jp_sales</th>\n",
       "      <th>other_sales</th>\n",
       "      <th>critic_score</th>\n",
       "      <th>user_score</th>\n",
       "      <th>rating</th>\n",
       "      <th>total_sales</th>\n",
       "    </tr>\n",
       "  </thead>\n",
       "  <tbody>\n",
       "    <tr>\n",
       "      <th>0</th>\n",
       "      <td>Wii Sports</td>\n",
       "      <td>Wii</td>\n",
       "      <td>2006</td>\n",
       "      <td>Sports</td>\n",
       "      <td>41.36</td>\n",
       "      <td>28.96</td>\n",
       "      <td>3.77</td>\n",
       "      <td>8.45</td>\n",
       "      <td>76.0</td>\n",
       "      <td>8.0</td>\n",
       "      <td>E</td>\n",
       "      <td>82.54</td>\n",
       "    </tr>\n",
       "    <tr>\n",
       "      <th>2</th>\n",
       "      <td>Mario Kart Wii</td>\n",
       "      <td>Wii</td>\n",
       "      <td>2008</td>\n",
       "      <td>Racing</td>\n",
       "      <td>15.68</td>\n",
       "      <td>12.76</td>\n",
       "      <td>3.79</td>\n",
       "      <td>3.29</td>\n",
       "      <td>82.0</td>\n",
       "      <td>8.3</td>\n",
       "      <td>E</td>\n",
       "      <td>35.52</td>\n",
       "    </tr>\n",
       "    <tr>\n",
       "      <th>3</th>\n",
       "      <td>Wii Sports Resort</td>\n",
       "      <td>Wii</td>\n",
       "      <td>2009</td>\n",
       "      <td>Sports</td>\n",
       "      <td>15.61</td>\n",
       "      <td>10.93</td>\n",
       "      <td>3.28</td>\n",
       "      <td>2.95</td>\n",
       "      <td>80.0</td>\n",
       "      <td>8.0</td>\n",
       "      <td>E</td>\n",
       "      <td>32.77</td>\n",
       "    </tr>\n",
       "    <tr>\n",
       "      <th>6</th>\n",
       "      <td>New Super Mario Bros.</td>\n",
       "      <td>DS</td>\n",
       "      <td>2006</td>\n",
       "      <td>Platform</td>\n",
       "      <td>11.28</td>\n",
       "      <td>9.14</td>\n",
       "      <td>6.50</td>\n",
       "      <td>2.88</td>\n",
       "      <td>89.0</td>\n",
       "      <td>8.5</td>\n",
       "      <td>E</td>\n",
       "      <td>29.80</td>\n",
       "    </tr>\n",
       "    <tr>\n",
       "      <th>7</th>\n",
       "      <td>Wii Play</td>\n",
       "      <td>Wii</td>\n",
       "      <td>2006</td>\n",
       "      <td>Misc</td>\n",
       "      <td>13.96</td>\n",
       "      <td>9.18</td>\n",
       "      <td>2.93</td>\n",
       "      <td>2.84</td>\n",
       "      <td>58.0</td>\n",
       "      <td>6.6</td>\n",
       "      <td>E</td>\n",
       "      <td>28.91</td>\n",
       "    </tr>\n",
       "    <tr>\n",
       "      <th>...</th>\n",
       "      <td>...</td>\n",
       "      <td>...</td>\n",
       "      <td>...</td>\n",
       "      <td>...</td>\n",
       "      <td>...</td>\n",
       "      <td>...</td>\n",
       "      <td>...</td>\n",
       "      <td>...</td>\n",
       "      <td>...</td>\n",
       "      <td>...</td>\n",
       "      <td>...</td>\n",
       "      <td>...</td>\n",
       "    </tr>\n",
       "    <tr>\n",
       "      <th>16710</th>\n",
       "      <td>Samurai Warriors: Sanada Maru</td>\n",
       "      <td>PS3</td>\n",
       "      <td>2016</td>\n",
       "      <td>Action</td>\n",
       "      <td>0.00</td>\n",
       "      <td>0.00</td>\n",
       "      <td>0.01</td>\n",
       "      <td>0.00</td>\n",
       "      <td>NaN</td>\n",
       "      <td>NaN</td>\n",
       "      <td>NaN</td>\n",
       "      <td>0.01</td>\n",
       "    </tr>\n",
       "    <tr>\n",
       "      <th>16711</th>\n",
       "      <td>LMA Manager 2007</td>\n",
       "      <td>X360</td>\n",
       "      <td>2006</td>\n",
       "      <td>Sports</td>\n",
       "      <td>0.00</td>\n",
       "      <td>0.01</td>\n",
       "      <td>0.00</td>\n",
       "      <td>0.00</td>\n",
       "      <td>NaN</td>\n",
       "      <td>NaN</td>\n",
       "      <td>NaN</td>\n",
       "      <td>0.01</td>\n",
       "    </tr>\n",
       "    <tr>\n",
       "      <th>16712</th>\n",
       "      <td>Haitaka no Psychedelica</td>\n",
       "      <td>PSV</td>\n",
       "      <td>2016</td>\n",
       "      <td>Adventure</td>\n",
       "      <td>0.00</td>\n",
       "      <td>0.00</td>\n",
       "      <td>0.01</td>\n",
       "      <td>0.00</td>\n",
       "      <td>NaN</td>\n",
       "      <td>NaN</td>\n",
       "      <td>NaN</td>\n",
       "      <td>0.01</td>\n",
       "    </tr>\n",
       "    <tr>\n",
       "      <th>16713</th>\n",
       "      <td>Spirits &amp; Spells</td>\n",
       "      <td>GBA</td>\n",
       "      <td>2003</td>\n",
       "      <td>Platform</td>\n",
       "      <td>0.01</td>\n",
       "      <td>0.00</td>\n",
       "      <td>0.00</td>\n",
       "      <td>0.00</td>\n",
       "      <td>NaN</td>\n",
       "      <td>NaN</td>\n",
       "      <td>NaN</td>\n",
       "      <td>0.01</td>\n",
       "    </tr>\n",
       "    <tr>\n",
       "      <th>16714</th>\n",
       "      <td>Winning Post 8 2016</td>\n",
       "      <td>PSV</td>\n",
       "      <td>2016</td>\n",
       "      <td>Simulation</td>\n",
       "      <td>0.00</td>\n",
       "      <td>0.00</td>\n",
       "      <td>0.01</td>\n",
       "      <td>0.00</td>\n",
       "      <td>NaN</td>\n",
       "      <td>NaN</td>\n",
       "      <td>NaN</td>\n",
       "      <td>0.01</td>\n",
       "    </tr>\n",
       "  </tbody>\n",
       "</table>\n",
       "<p>14120 rows × 12 columns</p>\n",
       "</div>"
      ],
      "text/plain": [
       "                                name platform  year_of_release       genre  \\\n",
       "0                         Wii Sports      Wii             2006      Sports   \n",
       "2                     Mario Kart Wii      Wii             2008      Racing   \n",
       "3                  Wii Sports Resort      Wii             2009      Sports   \n",
       "6              New Super Mario Bros.       DS             2006    Platform   \n",
       "7                           Wii Play      Wii             2006        Misc   \n",
       "...                              ...      ...              ...         ...   \n",
       "16710  Samurai Warriors: Sanada Maru      PS3             2016      Action   \n",
       "16711               LMA Manager 2007     X360             2006      Sports   \n",
       "16712        Haitaka no Psychedelica      PSV             2016   Adventure   \n",
       "16713               Spirits & Spells      GBA             2003    Platform   \n",
       "16714            Winning Post 8 2016      PSV             2016  Simulation   \n",
       "\n",
       "       na_sales  eu_sales  jp_sales  other_sales  critic_score  user_score  \\\n",
       "0         41.36     28.96      3.77         8.45          76.0         8.0   \n",
       "2         15.68     12.76      3.79         3.29          82.0         8.3   \n",
       "3         15.61     10.93      3.28         2.95          80.0         8.0   \n",
       "6         11.28      9.14      6.50         2.88          89.0         8.5   \n",
       "7         13.96      9.18      2.93         2.84          58.0         6.6   \n",
       "...         ...       ...       ...          ...           ...         ...   \n",
       "16710      0.00      0.00      0.01         0.00           NaN         NaN   \n",
       "16711      0.00      0.01      0.00         0.00           NaN         NaN   \n",
       "16712      0.00      0.00      0.01         0.00           NaN         NaN   \n",
       "16713      0.01      0.00      0.00         0.00           NaN         NaN   \n",
       "16714      0.00      0.00      0.01         0.00           NaN         NaN   \n",
       "\n",
       "      rating  total_sales  \n",
       "0          E        82.54  \n",
       "2          E        35.52  \n",
       "3          E        32.77  \n",
       "6          E        29.80  \n",
       "7          E        28.91  \n",
       "...      ...          ...  \n",
       "16710    NaN         0.01  \n",
       "16711    NaN         0.01  \n",
       "16712    NaN         0.01  \n",
       "16713    NaN         0.01  \n",
       "16714    NaN         0.01  \n",
       "\n",
       "[14120 rows x 12 columns]"
      ]
     },
     "execution_count": 59,
     "metadata": {},
     "output_type": "execute_result"
    }
   ],
   "source": [
    "games_desde_2001 = games[games['year_of_release'] >= 2001]\n",
    "games_desde_2001"
   ]
  },
  {
   "cell_type": "markdown",
   "metadata": {},
   "source": [
    "### ¿Qué plataformas son líderes en ventas? ¿Cuáles crecen y cuáles se reducen? "
   ]
  },
  {
   "cell_type": "code",
   "execution_count": 60,
   "metadata": {},
   "outputs": [
    {
     "name": "stdout",
     "output_type": "stream",
     "text": [
      "Las plataformas líderes en ventas son las siguientes:\n"
     ]
    },
    {
     "data": {
      "text/html": [
       "<div>\n",
       "<style scoped>\n",
       "    .dataframe tbody tr th:only-of-type {\n",
       "        vertical-align: middle;\n",
       "    }\n",
       "\n",
       "    .dataframe tbody tr th {\n",
       "        vertical-align: top;\n",
       "    }\n",
       "\n",
       "    .dataframe thead th {\n",
       "        text-align: right;\n",
       "    }\n",
       "</style>\n",
       "<table border=\"1\" class=\"dataframe\">\n",
       "  <thead>\n",
       "    <tr style=\"text-align: right;\">\n",
       "      <th></th>\n",
       "      <th>name</th>\n",
       "      <th>platform</th>\n",
       "      <th>year_of_release</th>\n",
       "      <th>genre</th>\n",
       "      <th>na_sales</th>\n",
       "      <th>eu_sales</th>\n",
       "      <th>jp_sales</th>\n",
       "      <th>other_sales</th>\n",
       "      <th>critic_score</th>\n",
       "      <th>user_score</th>\n",
       "      <th>rating</th>\n",
       "      <th>total_sales</th>\n",
       "    </tr>\n",
       "  </thead>\n",
       "  <tbody>\n",
       "    <tr>\n",
       "      <th>0</th>\n",
       "      <td>Wii Sports</td>\n",
       "      <td>Wii</td>\n",
       "      <td>2006</td>\n",
       "      <td>Sports</td>\n",
       "      <td>41.36</td>\n",
       "      <td>28.96</td>\n",
       "      <td>3.77</td>\n",
       "      <td>8.45</td>\n",
       "      <td>76.0</td>\n",
       "      <td>8.0</td>\n",
       "      <td>E</td>\n",
       "      <td>82.54</td>\n",
       "    </tr>\n",
       "    <tr>\n",
       "      <th>2</th>\n",
       "      <td>Mario Kart Wii</td>\n",
       "      <td>Wii</td>\n",
       "      <td>2008</td>\n",
       "      <td>Racing</td>\n",
       "      <td>15.68</td>\n",
       "      <td>12.76</td>\n",
       "      <td>3.79</td>\n",
       "      <td>3.29</td>\n",
       "      <td>82.0</td>\n",
       "      <td>8.3</td>\n",
       "      <td>E</td>\n",
       "      <td>35.52</td>\n",
       "    </tr>\n",
       "    <tr>\n",
       "      <th>3</th>\n",
       "      <td>Wii Sports Resort</td>\n",
       "      <td>Wii</td>\n",
       "      <td>2009</td>\n",
       "      <td>Sports</td>\n",
       "      <td>15.61</td>\n",
       "      <td>10.93</td>\n",
       "      <td>3.28</td>\n",
       "      <td>2.95</td>\n",
       "      <td>80.0</td>\n",
       "      <td>8.0</td>\n",
       "      <td>E</td>\n",
       "      <td>32.77</td>\n",
       "    </tr>\n",
       "    <tr>\n",
       "      <th>6</th>\n",
       "      <td>New Super Mario Bros.</td>\n",
       "      <td>DS</td>\n",
       "      <td>2006</td>\n",
       "      <td>Platform</td>\n",
       "      <td>11.28</td>\n",
       "      <td>9.14</td>\n",
       "      <td>6.50</td>\n",
       "      <td>2.88</td>\n",
       "      <td>89.0</td>\n",
       "      <td>8.5</td>\n",
       "      <td>E</td>\n",
       "      <td>29.80</td>\n",
       "    </tr>\n",
       "    <tr>\n",
       "      <th>7</th>\n",
       "      <td>Wii Play</td>\n",
       "      <td>Wii</td>\n",
       "      <td>2006</td>\n",
       "      <td>Misc</td>\n",
       "      <td>13.96</td>\n",
       "      <td>9.18</td>\n",
       "      <td>2.93</td>\n",
       "      <td>2.84</td>\n",
       "      <td>58.0</td>\n",
       "      <td>6.6</td>\n",
       "      <td>E</td>\n",
       "      <td>28.91</td>\n",
       "    </tr>\n",
       "    <tr>\n",
       "      <th>8</th>\n",
       "      <td>New Super Mario Bros. Wii</td>\n",
       "      <td>Wii</td>\n",
       "      <td>2009</td>\n",
       "      <td>Platform</td>\n",
       "      <td>14.44</td>\n",
       "      <td>6.94</td>\n",
       "      <td>4.70</td>\n",
       "      <td>2.24</td>\n",
       "      <td>87.0</td>\n",
       "      <td>8.4</td>\n",
       "      <td>E</td>\n",
       "      <td>28.32</td>\n",
       "    </tr>\n",
       "    <tr>\n",
       "      <th>10</th>\n",
       "      <td>Nintendogs</td>\n",
       "      <td>DS</td>\n",
       "      <td>2005</td>\n",
       "      <td>Simulation</td>\n",
       "      <td>9.05</td>\n",
       "      <td>10.95</td>\n",
       "      <td>1.93</td>\n",
       "      <td>2.74</td>\n",
       "      <td>NaN</td>\n",
       "      <td>NaN</td>\n",
       "      <td>NaN</td>\n",
       "      <td>24.67</td>\n",
       "    </tr>\n",
       "    <tr>\n",
       "      <th>11</th>\n",
       "      <td>Mario Kart DS</td>\n",
       "      <td>DS</td>\n",
       "      <td>2005</td>\n",
       "      <td>Racing</td>\n",
       "      <td>9.71</td>\n",
       "      <td>7.47</td>\n",
       "      <td>4.13</td>\n",
       "      <td>1.90</td>\n",
       "      <td>91.0</td>\n",
       "      <td>8.6</td>\n",
       "      <td>E</td>\n",
       "      <td>23.21</td>\n",
       "    </tr>\n",
       "    <tr>\n",
       "      <th>13</th>\n",
       "      <td>Wii Fit</td>\n",
       "      <td>Wii</td>\n",
       "      <td>2007</td>\n",
       "      <td>Sports</td>\n",
       "      <td>8.92</td>\n",
       "      <td>8.03</td>\n",
       "      <td>3.60</td>\n",
       "      <td>2.15</td>\n",
       "      <td>80.0</td>\n",
       "      <td>7.7</td>\n",
       "      <td>E</td>\n",
       "      <td>22.70</td>\n",
       "    </tr>\n",
       "    <tr>\n",
       "      <th>14</th>\n",
       "      <td>Kinect Adventures!</td>\n",
       "      <td>X360</td>\n",
       "      <td>2010</td>\n",
       "      <td>Misc</td>\n",
       "      <td>15.00</td>\n",
       "      <td>4.89</td>\n",
       "      <td>0.24</td>\n",
       "      <td>1.69</td>\n",
       "      <td>61.0</td>\n",
       "      <td>6.3</td>\n",
       "      <td>E</td>\n",
       "      <td>21.82</td>\n",
       "    </tr>\n",
       "  </tbody>\n",
       "</table>\n",
       "</div>"
      ],
      "text/plain": [
       "                         name platform  year_of_release       genre  na_sales  \\\n",
       "0                  Wii Sports      Wii             2006      Sports     41.36   \n",
       "2              Mario Kart Wii      Wii             2008      Racing     15.68   \n",
       "3           Wii Sports Resort      Wii             2009      Sports     15.61   \n",
       "6       New Super Mario Bros.       DS             2006    Platform     11.28   \n",
       "7                    Wii Play      Wii             2006        Misc     13.96   \n",
       "8   New Super Mario Bros. Wii      Wii             2009    Platform     14.44   \n",
       "10                 Nintendogs       DS             2005  Simulation      9.05   \n",
       "11              Mario Kart DS       DS             2005      Racing      9.71   \n",
       "13                    Wii Fit      Wii             2007      Sports      8.92   \n",
       "14         Kinect Adventures!     X360             2010        Misc     15.00   \n",
       "\n",
       "    eu_sales  jp_sales  other_sales  critic_score  user_score rating  \\\n",
       "0      28.96      3.77         8.45          76.0         8.0      E   \n",
       "2      12.76      3.79         3.29          82.0         8.3      E   \n",
       "3      10.93      3.28         2.95          80.0         8.0      E   \n",
       "6       9.14      6.50         2.88          89.0         8.5      E   \n",
       "7       9.18      2.93         2.84          58.0         6.6      E   \n",
       "8       6.94      4.70         2.24          87.0         8.4      E   \n",
       "10     10.95      1.93         2.74           NaN         NaN    NaN   \n",
       "11      7.47      4.13         1.90          91.0         8.6      E   \n",
       "13      8.03      3.60         2.15          80.0         7.7      E   \n",
       "14      4.89      0.24         1.69          61.0         6.3      E   \n",
       "\n",
       "    total_sales  \n",
       "0         82.54  \n",
       "2         35.52  \n",
       "3         32.77  \n",
       "6         29.80  \n",
       "7         28.91  \n",
       "8         28.32  \n",
       "10        24.67  \n",
       "11        23.21  \n",
       "13        22.70  \n",
       "14        21.82  "
      ]
     },
     "execution_count": 60,
     "metadata": {},
     "output_type": "execute_result"
    }
   ],
   "source": [
    "top_platforms_1 = games_desde_2001.sort_values(by='total_sales', ascending=False).head(10)\n",
    "print(\"Las plataformas líderes en ventas son las siguientes:\")\n",
    "top_platforms_1"
   ]
  },
  {
   "cell_type": "code",
   "execution_count": 61,
   "metadata": {},
   "outputs": [
    {
     "name": "stdout",
     "output_type": "stream",
     "text": [
      "Comparación de ventas por plataforma:\n",
      "   platform  total_sales_first  total_sales_last       trend\n",
      "0       3DS              63.20             15.14  decreasing\n",
      "1        DC               1.07              0.04  decreasing\n",
      "2        DS              17.27              1.54  decreasing\n",
      "3        GB               9.24              9.24  decreasing\n",
      "4       GBA              61.53              3.40  decreasing\n",
      "5        GC              26.34              0.27  decreasing\n",
      "6       N64               3.25              0.08  decreasing\n",
      "7        PC               5.47              5.25  decreasing\n",
      "8        PS              35.59              2.07  decreasing\n",
      "9       PS2             166.43              0.45  decreasing\n",
      "10      PS3              20.96              3.60  decreasing\n",
      "11      PS4              25.99             69.25     GROWING\n",
      "12      PSP               7.06              0.12  decreasing\n",
      "13      PSV               4.63              4.25  decreasing\n",
      "14       WS               0.28              0.28  decreasing\n",
      "15      Wii             137.15              0.18  decreasing\n",
      "16     WiiU              17.56              4.60  decreasing\n",
      "17     X360               8.25              1.52  decreasing\n",
      "18       XB              22.26              0.18  decreasing\n",
      "19     XOne              18.96             26.15     GROWING\n"
     ]
    }
   ],
   "source": [
    "#PARA ANALIZAR CUALES CRECEN Y CUALES SE REDUCEN\n",
    "\n",
    "#Agrupamos las ventas totales por plataforma y año\n",
    "sales_by_year = games_desde_2001.groupby(['platform', 'year_of_release'])['total_sales'].sum().reset_index()\n",
    "\n",
    "#Obtenemos los primeros y últimos años de ventas para cada plataforma\n",
    "first_year_sales = sales_by_year.groupby('platform').first().reset_index()\n",
    "last_year_sales = sales_by_year.groupby('platform').last().reset_index()\n",
    "\n",
    "#Combinamos los primeros y últimos años de ventas en un merge\n",
    "sales_years = pd.merge(first_year_sales, last_year_sales, on='platform', suffixes=('_first', '_last'))\n",
    "\n",
    "#Vemos si las ventas están creciendo o disminuyendo\n",
    "sales_years['trend'] = sales_years.apply(lambda row: 'GROWING' if row['total_sales_last'] > row['total_sales_first'] else 'decreasing', axis=1)\n",
    "\n",
    "print(\"Comparación de ventas por plataforma:\")\n",
    "print(sales_years[['platform', 'total_sales_first', 'total_sales_last', 'trend']])\n"
   ]
  },
  {
   "cell_type": "code",
   "execution_count": 62,
   "metadata": {},
   "outputs": [
    {
     "name": "stdout",
     "output_type": "stream",
     "text": [
      "Las plataformas que están creciendo son:\n",
      "11     PS4\n",
      "19    XOne\n",
      "Name: platform, dtype: object\n",
      "Las plataformas que están disminuyendo son:\n",
      "0      3DS\n",
      "1       DC\n",
      "2       DS\n",
      "3       GB\n",
      "4      GBA\n",
      "5       GC\n",
      "6      N64\n",
      "7       PC\n",
      "8       PS\n",
      "9      PS2\n",
      "10     PS3\n",
      "12     PSP\n",
      "13     PSV\n",
      "14      WS\n",
      "15     Wii\n",
      "16    WiiU\n",
      "17    X360\n",
      "18      XB\n",
      "Name: platform, dtype: object\n"
     ]
    }
   ],
   "source": [
    "growing_platforms = sales_years[sales_years['trend'] == 'GROWING']\n",
    "decreasing_platforms = sales_years[sales_years['trend'] == 'decreasing']\n",
    "print(\"Las plataformas que están creciendo son:\")\n",
    "print(growing_platforms['platform'])\n",
    "print(\"Las plataformas que están disminuyendo son:\")\n",
    "print(decreasing_platforms['platform'])"
   ]
  },
  {
   "cell_type": "markdown",
   "metadata": {},
   "source": [
    "**Por lo tanto, del analisis realizado lo conveniente es elegir las siguientes plataformas como potencialmente rentables:**\n",
    "\n",
    "PS4 (PlayStation 4)\n",
    "\n",
    "XOne (Xbox One)"
   ]
  },
  {
   "cell_type": "markdown",
   "metadata": {},
   "source": [
    "### Observacion de cómo las reseñas de usuarios y profesionales afectan las ventas de una plataforma popular."
   ]
  },
  {
   "cell_type": "code",
   "execution_count": 65,
   "metadata": {},
   "outputs": [
    {
     "data": {
      "image/png": "[encoded data removed]",
      "text/plain": [
       "<Figure size 1000x600 with 1 Axes>"
      ]
     },
     "metadata": {},
     "output_type": "display_data"
    },
    {
     "name": "stdout",
     "output_type": "stream",
     "text": [
      "Correlación entre las reseñas de críticos y las ventas: 0.40656790206178095\n",
      "Correlación entre las reseñas de usuarios y las ventas: -0.031957110204556424\n"
     ]
    }
   ],
   "source": [
    "plataforma_elegida = 'PS4'\n",
    "\n",
    "#filtramos para incluir solo los datos de la plataforma PS4\n",
    "data_plataforma = games_desde_2001[games_desde_2001['platform'] == plataforma_elegida]\n",
    "\n",
    "#gráfico de dispersión \n",
    "plt.figure(figsize=(10, 6))\n",
    "plt.scatter(data_plataforma['critic_score'], data_plataforma['total_sales'], label='Critic Score')\n",
    "plt.scatter(data_plataforma['user_score'], data_plataforma['total_sales'], label='User Score')\n",
    "plt.title('Ventas vs. Reseñas para ' + plataforma_elegida)\n",
    "plt.xlabel('Reseñas')\n",
    "plt.ylabel('Ventas Totales (en millones)')\n",
    "plt.legend()\n",
    "plt.grid(True)\n",
    "plt.show()\n",
    "\n",
    "#Calculamos la correlación entre las reseñas y las ventas\n",
    "correlation_critic = data_plataforma['critic_score'].corr(data_plataforma['total_sales'])\n",
    "correlation_user = data_plataforma['user_score'].corr(data_plataforma['total_sales'])\n",
    "\n",
    "print(\"Correlación entre las reseñas de críticos y las ventas:\", correlation_critic)\n",
    "print(\"Correlación entre las reseñas de usuarios y las ventas:\", correlation_user)\n"
   ]
  },
  {
   "cell_type": "markdown",
   "metadata": {},
   "source": [
    "**Correlación entre las reseñas de críticos y las ventas de PS4:** 0.406 indica una correlación moderadamente positiva entre las reseñas de críticos y las ventas. Esto significa que, en promedio, cuando las reseñas de críticos son más altas, las ventas tienden a ser mayores. Sin embargo, la correlación no es extremadamente alta, esto quiere decir que hay muchos otros factores que también influyen en las ventas.\n",
    "\n",
    "**Correlación entre las reseñas de usuarios y las ventas:** El valor de -0.031 indica una correlación muy débil y cercana a cero entre las reseñas de usuarios y las ventas. Por lo tanto podemos concluir que las reseñas de usuarios no afectan las ventas de la plataforma, hay otros factores mas importantes que seguro lo hacen."
   ]
  },
  {
   "cell_type": "markdown",
   "metadata": {},
   "source": [
    "### Comparar las ventas de los mismos juegos en otras plataformas."
   ]
  },
  {
   "cell_type": "markdown",
   "metadata": {},
   "source": [
    "Para este apartado decidí usar juegos que se encuentren en mas de 8 plataformas con el fin de tener un analisis con mayores datos y también delimitar la muestra a un conjunto pequeño de juegos."
   ]
  },
  {
   "cell_type": "code",
   "execution_count": 66,
   "metadata": {},
   "outputs": [
    {
     "name": "stdout",
     "output_type": "stream",
     "text": [
      "Juegos disponibles en más de 8 plataformas:\n",
      "                             name  platform\n",
      "2374                      FIFA 14         9\n",
      "4168     LEGO Marvel Super Heroes         9\n",
      "5466  Need for Speed: Most Wanted        10\n",
      "6344                  Ratatouille         9\n"
     ]
    }
   ],
   "source": [
    "juegos_plataformas = games_desde_2001.groupby('name')['platform'].nunique().reset_index()\n",
    "\n",
    "juegos_varias_plataformas = juegos_plataformas[juegos_plataformas['platform'] > 8]\n",
    "\n",
    "print(\"Juegos disponibles en más de 8 plataformas:\")\n",
    "print(juegos_varias_plataformas)\n"
   ]
  },
  {
   "cell_type": "code",
   "execution_count": 67,
   "metadata": {},
   "outputs": [
    {
     "data": {
      "image/png": "[encoded data removed]",
      "text/plain": [
       "<Figure size 1200x800 with 1 Axes>"
      ]
     },
     "metadata": {},
     "output_type": "display_data"
    }
   ],
   "source": [
    "# Filtramos\n",
    "juegos_seleccionados = ['FIFA 14', 'LEGO Marvel Super Heroes', 'Need for Speed: Most Wanted', 'Ratatouille']\n",
    "data_juegos = games_desde_2001[games_desde_2001['name'].isin(juegos_seleccionados)]\n",
    "\n",
    "# Visualizamos\n",
    "plt.figure(figsize=(12, 8))\n",
    "for juego in juegos_seleccionados:\n",
    "    data_juego = data_juegos[data_juegos['name'] == juego]\n",
    "    plt.bar(data_juego['platform'], data_juego['total_sales'], label=juego)\n",
    "\n",
    "plt.title('Ventas de Juegos en Varias Plataformas')\n",
    "plt.xlabel('Plataforma')\n",
    "plt.ylabel('Ventas Totales (en millones)')\n",
    "plt.legend()\n",
    "plt.grid(True)\n",
    "plt.show()"
   ]
  },
  {
   "cell_type": "markdown",
   "metadata": {},
   "source": [
    "Estos resultados nos muestran claramente que el exito de un juego si varía dependiendo de la plataforma, por ejemplo en el caso del juego de FIFA 14 tiene muchas ventas en lo que respecta a PS3, X360 Y PS4, cuando en las otras plataformas las ventas son escasas respecto al mismo juego.  \n",
    "\n",
    "Respecto a Lego podemos ver que igual se encuentra en varias plataformas pero principalmente tiene exito en x360 y PS4 seguido por XOne y WiiU.\n",
    "\n",
    "Ocurre algo muy interensado con Ratatoulle, en este juego podemos ver una distribución mas equitativa entre algunas plataformas, demostrando que este juego a tenido un exito promedio-bajo en varias plataformas.\n",
    "\n",
    "Finalmente en el caso de Need for Speed: Most Wanted, podemos ver que tuvo un gran numero de ventas en la PS2, siguiendo con la PS3, seguidos por la plataforma X360, y continuando en menos medidas en las plataformas PSV, XB, GC, PC, GBA y WiiU."
   ]
  },
  {
   "cell_type": "markdown",
   "metadata": {},
   "source": [
    "### Distribución general de los juegos por género. ¿Qué se puede decir de los géneros más rentables? "
   ]
  },
  {
   "cell_type": "code",
   "execution_count": 89,
   "metadata": {},
   "outputs": [
    {
     "data": {
      "image/png": "[encoded data removed]",
      "text/plain": [
       "<Figure size 800x400 with 1 Axes>"
      ]
     },
     "metadata": {},
     "output_type": "display_data"
    },
    {
     "name": "stdout",
     "output_type": "stream",
     "text": [
      "Los 5 géneros más rentables son:\n",
      "0           Action\n",
      "10          Sports\n",
      "8          Shooter\n",
      "3             Misc\n",
      "7     Role-Playing\n",
      "Name: genre, dtype: object\n"
     ]
    }
   ],
   "source": [
    "#Primero agrupamos por ventas y género\n",
    "ventas_por_genero = games_desde_2001.groupby('genre')['total_sales'].sum().reset_index()\n",
    "\n",
    "#Ordenamos los géneros por sus ventas totales de forma descendente\n",
    "ventas_por_genero = ventas_por_genero.sort_values(by='total_sales', ascending=False)\n",
    "\n",
    "#Visualizamos con un gráfico de barras\n",
    "plt.figure(figsize=(8, 4))\n",
    "plt.bar(ventas_por_genero['genre'], ventas_por_genero['total_sales'], color='pink')\n",
    "plt.title('Ventas Totales de Juegos por Género')\n",
    "plt.xlabel('Género')\n",
    "plt.ylabel('Ventas Totales (en millones)')\n",
    "plt.xticks(rotation=45)  \n",
    "plt.grid(True)\n",
    "plt.show()\n",
    "\n",
    "print(\"Los 5 géneros más rentables son:\")\n",
    "print(ventas_por_genero['genre'].head())"
   ]
  },
  {
   "cell_type": "code",
   "execution_count": 69,
   "metadata": {},
   "outputs": [
    {
     "name": "stdout",
     "output_type": "stream",
     "text": [
      "Los géneros con ventas altas son:\n",
      "           genre  total_sales\n",
      "0         Action      1492.18\n",
      "10        Sports      1089.68\n",
      "8        Shooter       905.87\n",
      "3           Misc       702.80\n",
      "7   Role-Playing       702.17\n"
     ]
    }
   ],
   "source": [
    "print(\"Los géneros con ventas altas son:\")\n",
    "print(ventas_por_genero[ventas_por_genero['total_sales'] > ventas_por_genero['total_sales'].mean()])"
   ]
  },
  {
   "cell_type": "code",
   "execution_count": 70,
   "metadata": {},
   "outputs": [
    {
     "name": "stdout",
     "output_type": "stream",
     "text": [
      "Los géneros con ventas bajas son:\n",
      "         genre  total_sales\n",
      "6       Racing       541.06\n",
      "4     Platform       478.37\n",
      "9   Simulation       332.04\n",
      "2     Fighting       291.64\n",
      "1    Adventure       180.78\n",
      "5       Puzzle       134.37\n",
      "11    Strategy       106.53\n"
     ]
    }
   ],
   "source": [
    "print(\"Los géneros con ventas bajas son:\")\n",
    "print(ventas_por_genero[ventas_por_genero['total_sales'] < ventas_por_genero['total_sales'].mean()])"
   ]
  },
  {
   "cell_type": "markdown",
   "metadata": {},
   "source": [
    "Como podemos ver, los generos a nivel general con mayores ventas son: Action, Sports, Shooter, Misc, Role-Playing, esto tomando en cuenta la sumatoria de todas las ventas, mientras que los juegos con ventas más bajas son: Racing, Platform, Simulation, Fighting, Adventure, Puzzle y Strategy."
   ]
  },
  {
   "cell_type": "markdown",
   "metadata": {},
   "source": [
    "## Crea un perfil de usuario para cada región\n",
    "\n",
    "### Para cada región (NA, UE, JP) determinaremos: Las cinco plataformas principalesy se describira las variaciones en sus cuotas de mercado de una región a otra."
   ]
  },
  {
   "cell_type": "code",
   "execution_count": 87,
   "metadata": {},
   "outputs": [
    {
     "data": {
      "image/png": "[encoded data removed]",
      "text/plain": [
       "<Figure size 1200x600 with 1 Axes>"
      ]
     },
     "metadata": {},
     "output_type": "display_data"
    }
   ],
   "source": [
    "#Primero sacamos las 5 plataformas principales en cada región\n",
    "def top_platforms_by_region(df, region, sales_column):\n",
    "    top_platforms = df.groupby('platform')[sales_column].sum().sort_values(ascending=False).head(5)\n",
    "    return top_platforms\n",
    "\n",
    "na_top_platforms = top_platforms_by_region(games_desde_2001, 'NA', 'na_sales')\n",
    "eu_top_platforms = top_platforms_by_region(games_desde_2001, 'EU', 'eu_sales')\n",
    "jp_top_platforms = top_platforms_by_region(games_desde_2001, 'JP', 'jp_sales')\n",
    "\n",
    "#Visualizamos\n",
    "combined_top_platforms = pd.concat([na_top_platforms, eu_top_platforms, jp_top_platforms], axis=1)\n",
    "combined_top_platforms.columns = ['NA', 'EU', 'JP']\n",
    "\n",
    "colors = ['skyblue', 'lightgreen', 'lightcoral']\n",
    "\n",
    "fig, ax = plt.subplots(figsize=(12, 6))\n",
    "\n",
    "combined_top_platforms.plot(kind='bar', ax=ax, color=colors)\n",
    "ax.set_title('Cinco plataformas principales en NA, EU y JP')\n",
    "ax.set_xlabel('Plataforma')\n",
    "ax.set_ylabel('Ventas Totales (en millones)')\n",
    "ax.set_xticklabels(combined_top_platforms.index, rotation=45)\n",
    "ax.legend(title='Región')\n",
    "\n",
    "plt.tight_layout()\n",
    "plt.show()\n"
   ]
  },
  {
   "cell_type": "markdown",
   "metadata": {},
   "source": [
    "**VARIACIONES DEL MERCADO**\n",
    "\n",
    "Como podemos observar, la X360 (Xbox 360) es dominante en NA con la mayor cuota de mercado, sin embaro resulta ser la menor cuota en EU y no está entre las cinco principales en JP. La PS2 (PlayStation 2) por otro lado; es consistentemente alta en todas las regiones, siendo la segunda en NA y EU, y la segunda también en JP. Respecto a la plataforma Wii, esta se eucnetra fuertemente presente en NA y EU, pero no está entre las cinco principales en JP. La PS3 (PlayStation 3) por otra parte, lidera en EU, es tercera en NA, y cuarta en JP. El DS (Nintendo DS) esta en quinta posición en NA, quinta en EU, pero lidera en JP. y Finalmente respecto a 3DS (Nintendo 3DS) y PSP (PlayStation Portable):Ambos son significativos en JP, pero no aparecen en las cinco principales ni en NA o en EU.\n",
    "\n",
    "\n",
    "*En conclusión:* \n",
    "\n",
    "*NA: Preferencia por Xbox 360, con PlayStation y Nintendo también bien representadas.*\n",
    "\n",
    "*EU: Dominio de las consolas PlayStation, con la Xbox 360 y Wii también populares.*\n",
    "\n",
    "*JP: Fuerte preferencia por consolas portátiles de Nintendo y Sony, reflejando una tendencia diferente en las preferencias de los consumidores japoneses.*\n",
    "\n",
    "<u>Estas variaciones en las cuotas de mercado reflejan las diferencias regionales en preferencias de los consumidores, por lo que deberemos tomar esto muy en cuenta para las estrategias de marketing que vayamos a implementar, basandonos en las diferencias de cada región</u>."
   ]
  },
  {
   "cell_type": "markdown",
   "metadata": {},
   "source": [
    "### Para cada región (NA, UE, JP) determinare: Los cinco géneros principales. "
   ]
  },
  {
   "cell_type": "code",
   "execution_count": 85,
   "metadata": {},
   "outputs": [
    {
     "data": {
      "image/png": "[encoded data removed]",
      "text/plain": [
       "<Figure size 1200x600 with 1 Axes>"
      ]
     },
     "metadata": {},
     "output_type": "display_data"
    }
   ],
   "source": [
    "#Función para sacar los 5 géneros principales en cada región\n",
    "def top_genres_by_region(df, region, sales_column):\n",
    "    top_genres = df.groupby('genre')[sales_column].sum().sort_values(ascending=False).head(5)\n",
    "    return top_genres\n",
    "\n",
    "na_top_genres = top_genres_by_region(games_desde_2001, 'NA', 'na_sales')\n",
    "eu_top_genres = top_genres_by_region(games_desde_2001, 'EU', 'eu_sales')\n",
    "jp_top_genres = top_genres_by_region(games_desde_2001, 'JP', 'jp_sales')\n",
    "\n",
    "#Visualizamos\n",
    "\n",
    "combined_top_genres = pd.concat([na_top_genres, eu_top_genres, jp_top_genres], axis=1)\n",
    "combined_top_genres.columns = ['NA', 'EU', 'JP']\n",
    "\n",
    "colors = ['pink', 'lightcoral', 'lightblue']\n",
    "\n",
    "fig, ax = plt.subplots(figsize=(12, 6))\n",
    "\n",
    "combined_top_genres.plot(kind='bar', ax=ax, color=colors)\n",
    "ax.set_title('Cinco géneros principales en NA, EU y JP')\n",
    "ax.set_xlabel('Género')\n",
    "ax.set_ylabel('Ventas Totales (en millones)')\n",
    "ax.set_xticklabels(combined_top_genres.index, rotation=45)\n",
    "ax.legend(title='Región')\n",
    "\n",
    "plt.tight_layout()\n",
    "plt.show()\n"
   ]
  },
  {
   "cell_type": "markdown",
   "metadata": {},
   "source": [
    "**Diferencias en los Géneros Principales por Región**\n",
    "Después del analisis que hemos realizado en la celda anterior, podemos observar diferencias notables en las preferencias de los jugadores, siendo estas las siguientes:\n",
    "\n",
    "en América del Norte, los juegos de acción son los más populares, seguidos por los juegos de deportes y los shooters. La categoría Misc, también tiene una fuerte presencia terminando con los juegos de rol (Role-Playing) con menor popularidad pero igual dentro de su top5.\n",
    "\n",
    "En Europa, los juegos de acción también lideran el mercado, pero con una diferencia menor en comparación con América del Norte. Los juegos de deportes y shooters siguen siendo populares. La categoría Misc también aparece, pero en menor proporción. Una diferencia notable es la presencia de los juegos de carreras (Racing) entre los cinco géneros principales en Europa.\n",
    "\n",
    "Finalmente en Japón, los juegos de rol son los más populares, esto podría reflejar la fuerte tradición y popularidad de este género en el mercado japonés. Los juegos de acción siguen en segundo lugar, pero con ventas menores en comparación con los juegos de rol. La categoría Misc es también popular. Los juegos de deportes son menos populares en Japón comparados con NA y EU. Una diferencia notable es la presencia de juegos de plataformas (Platform) entre los cinco principales en Japón.\n",
    "\n",
    "Conclusiones\n",
    "NA y EU: Preferencias similares con juegos de acción, deportes y shooters liderando. La principal diferencia es la presencia de juegos de carreras en Europa.\n",
    "JP: Preferencias distintas con una fuerte inclinación hacia los juegos de rol y plataformas, mientras que los shooters no son tan populares.\n",
    "\n",
    "<u>Estas diferencias respecto a los generos en cada region deberán ser consideradas para las estrategias de marketing que vayamos a implementar en un futuro</u>."
   ]
  },
  {
   "cell_type": "markdown",
   "metadata": {},
   "source": [
    "### Para cada región (NA, UE, JP) determinaré: Si las clasificaciones de ESRB afectan a las ventas en regiones individuales."
   ]
  },
  {
   "cell_type": "code",
   "execution_count": 88,
   "metadata": {},
   "outputs": [
    {
     "data": {
      "image/png": "[encoded data removed]",
      "text/plain": [
       "<Figure size 1200x600 with 1 Axes>"
      ]
     },
     "metadata": {},
     "output_type": "display_data"
    }
   ],
   "source": [
    "# Sacamos la ventas por clasificación de ESRB en cada región\n",
    "def sales_by_esrb_rating(df, region, sales_column):\n",
    "    sales_by_rating = df.groupby('rating')[sales_column].sum().sort_values(ascending=False)\n",
    "    return sales_by_rating\n",
    "\n",
    "na_sales_by_rating = sales_by_esrb_rating(games_desde_2001, 'NA', 'na_sales')\n",
    "eu_sales_by_rating = sales_by_esrb_rating(games_desde_2001, 'EU', 'eu_sales')\n",
    "jp_sales_by_rating = sales_by_esrb_rating(games_desde_2001, 'JP', 'jp_sales')\n",
    "\n",
    "# Visualizamos \n",
    "combined_sales_by_rating = pd.concat([na_sales_by_rating, eu_sales_by_rating, jp_sales_by_rating], axis=1)\n",
    "combined_sales_by_rating.columns = ['NA', 'EU', 'JP']\n",
    "\n",
    "fig, ax = plt.subplots(figsize=(12, 6))\n",
    "\n",
    "combined_sales_by_rating.plot(kind='bar', ax=ax)\n",
    "ax.set_title('Ventas por clasificación de ESRB en NA, EU y JP')\n",
    "ax.set_xlabel('Clasificación ESRB')\n",
    "ax.set_ylabel('Ventas Totales (en millones)')\n",
    "ax.set_xticklabels(combined_sales_by_rating.index, rotation=45)\n",
    "ax.legend(title='Región')\n",
    "\n",
    "plt.tight_layout()\n",
    "plt.show()\n"
   ]
  },
  {
   "cell_type": "markdown",
   "metadata": {},
   "source": [
    "Al observar los resultados obtenidos anteriormente, podemos hacer las siguientes observaciones:\n",
    "\n",
    "En América del Norte, las ventas más altas son para juegos que tienen clasificación \"E\" (para todos los públicos), seguidas por juegos clasificados como \"M\" (maduros) y \"T\" (adolescentes), por lo tanto esto nos deja ver que que los juegos dirigidos a un público más amplio o general tiene mas ventas que los juegos de otras clasificaciones. En Europa ocurre algo similar a NA, las ventas más altas son para juegos para todo público \"E\", seguidos por \"M\" y \"T\". Respecto a Japón, podemos observar que las ventas más altas son para juegos clasificados como \"E\" y \"T\", y los juegos con clasificación \"M\" en cambio tiene ventas significativamente menores. Esto nos indica que en Japón, los juegos dirigidos a un público más joven (clasificaciones \"E\" y \"T\") tienen una demanda más alta en comparación con los juegos para un público más maduro."
   ]
  },
  {
   "cell_type": "markdown",
   "metadata": {},
   "source": [
    "## Prueba de hipótesis:"
   ]
  },
  {
   "cell_type": "markdown",
   "metadata": {},
   "source": [
    "### Las calificaciones promedio de los usuarios para las plataformas Xbox One y PC son las mismas."
   ]
  },
  {
   "cell_type": "code",
   "execution_count": 78,
   "metadata": {},
   "outputs": [
    {
     "name": "stdout",
     "output_type": "stream",
     "text": [
      "Rechazamos la hipótesis nula: las calificaciones promedio de los usuarios para Xbox One y PC si son diferentes.\n"
     ]
    }
   ],
   "source": [
    "# Filtramos el DataFrame para obtener solo las calificaciones de los usuarios para Xbox One y PC\n",
    "xbox_one_scores = games_desde_2001[games_desde_2001['platform'] == 'XOne']['user_score'].dropna()\n",
    "pc_scores = games_desde_2001[games_desde_2001['platform'] == 'PC']['user_score'].dropna()\n",
    "\n",
    "# Probamos la hipótesis\n",
    "t_statistic, p_value = ttest_ind(xbox_one_scores, pc_scores, equal_var=False)\n",
    "\n",
    "alpha = 0.05\n",
    "\n",
    "if p_value < alpha:\n",
    "    print(\"Rechazamos la hipótesis nula: las calificaciones promedio de los usuarios para Xbox One y PC si son diferentes.\")\n",
    "else:\n",
    "    print(\"No podemos rechazar la hipótesis nula: no hay suficiente evidencia para afirmar que las calificaciones promedio son diferentes.\")\n"
   ]
  },
  {
   "cell_type": "markdown",
   "metadata": {},
   "source": [
    "### Las calificaciones promedio de los usuarios para los géneros de Acción y Deportes son diferentes. "
   ]
  },
  {
   "cell_type": "code",
   "execution_count": 77,
   "metadata": {},
   "outputs": [
    {
     "name": "stdout",
     "output_type": "stream",
     "text": [
      "No podemos rechazar la hipótesis nula: no hay suficiente evidencia para afirmar que las calificaciones promedio son diferentes.\n"
     ]
    }
   ],
   "source": [
    "# Filtramos el DataFrame para obtener solo las calificaciones de los usuarios para los géneros de Acción y Deportes\n",
    "accion_scores = games_desde_2001[games_desde_2001['genre'] == 'Action']['user_score'].dropna()\n",
    "deportes_scores = games_desde_2001[games_desde_2001['genre'] == 'Sports']['user_score'].dropna()\n",
    "\n",
    "# Probamos la hipótesis\n",
    "t_statistic, p_value = ttest_ind(accion_scores, deportes_scores, equal_var=False)\n",
    "\n",
    "alpha = 0.05  \n",
    "\n",
    "if p_value < alpha:\n",
    "    print(\"Rechazamos la hipótesis nula: las calificaciones promedio de los usuarios para los géneros de Acción y Deportes son diferentes.\")\n",
    "else:\n",
    "    print(\"No podemos rechazar la hipótesis nula: no hay suficiente evidencia para afirmar que las calificaciones promedio son diferentes.\")\n"
   ]
  },
  {
   "cell_type": "markdown",
   "metadata": {},
   "source": [
    "Teniendo en cuenta que estas son mis hipotesis:\n",
    "\n",
    "Hipótesis nula: Las calificaciones promedio de los usuarios para los géneros proporcionados son iguales.\n",
    "Hipótesis alternativa: Las calificaciones promedio de los usuarios para los géneros proporcionados son diferentes.\n",
    "\n",
    "El criterio que usé para determinar las hipótesis en ambos casos fue un test de hipótesis de comparación de medias, el test t de Student, ya que con esto puedo evaluar si hay una diferencia notable entre las calificaciones promedio de usuarios para los géneros en cada caso. Este criterio lo usé porque estamos comparando dos muestras que son independientes entre ellas (las calificaciones de los usuarios para dos géneros diferentes) y todo esto con el fin de saber si hay una diferencia significativa en las medias de estas muestras. "
   ]
  },
  {
   "cell_type": "markdown",
   "metadata": {},
   "source": [
    "## Conclusiones\n",
    "\n",
    "1. Para iniciar con este proyecto integrado fue importante en primer lugar familiarizarme con los datos con los que iba a trabajar, para esto se importaron en primer lugar las librerias que consideré necesarias y luego se cargaron los datos con el fin de analizar la información general de los mismos, al dataframe inicialmente le di el nombre de \"games\" y luego de cargar la informacion, se pudo ver que estaba compuesto por 11 columnas muy importantes:Name, Platform, Year_of_Release, Genre, NA_sales, EU_sales, JP_sales, Other_sales, Critic_Score, User_Score y Rating.\n",
    "\n",
    "\n",
    "2. Luego de revisar esto se realizó un cambio en los nombres de las columnas poniendo todo el minúscula, esto constituye una buena practica dentro de nuestro tratamiento de datos y facilita el analisis posterior, ademas de esto modidique el tipo de datos en lo que crei pertinente y realicé las tareas de preprocesamiento de datos respecto a valores ausentes según como mejor se consideró.\n",
    "\n",
    "\n",
    "3. Posteriormente y luego de la fase anterior se procedió al analisis de los datos mediante el cual respondimos a distintas interrogatorias y usamos varios graficos para visualizar nuestros descubrimientos y resultados, esto facilita el entendimiento de las distintas conclusiones que hemos ido desarrollando respecto a ventas, generos, desarrollo y desaparición de plataformas, lanzamiento de juegos por añor, entre otras cosas, para este analisis es importante acotar que delimitamos los datos en el dataframe games_desde_2001 con el fin de ignorar aquellos años que no nos ofrecian información significativa para trabajar.\n",
    "\n",
    "\n",
    "4. Continuando, crearon perfiles de usuario para cada región, esto quiere decir que quisimos por medio del analisis de nuestros datos, entender mejor tanto las ventas como las preferencias de los usuarios de estas tres regiones respecto a plataformas y juegos todo esto con el fin de conocer mejor a nuestros consumidores y tener la información necesaria para planificar próximas campañas puclicitarias.\n",
    "\n",
    "\n",
    "5. Finalmente realizamos dos pruebas de hipotesis y asi enriquecimos más el presente proyecto para la TIENDA ONLINE ICE.\n",
    "\n",
    "Como podemos ver se realizo un analisis utilizando varias habilidades adquiridas, se abarco carga de datos, preprocesamiento, analisis y explicación de resultados, pruebas de hipótesis y conclusiones generales.  Agradezco por la oportunidad de trabajar en este proyecto y quedo atenta a proporcionar cualquier aclaración adicional o necesaria.\n",
    "\n",
    "\n",
    "Micaela Lastra S."
   ]
  }
 ],
 "metadata": {
  "ExecuteTimeLog": [
   {
    "duration": 479,
    "start_time": "2024-06-06T13:45:08.528Z"
   },
   {
    "duration": 3,
    "start_time": "2024-06-06T13:45:10.279Z"
   },
   {
    "duration": 54,
    "start_time": "2024-06-06T13:45:29.390Z"
   },
   {
    "duration": 42,
    "start_time": "2024-06-06T13:45:34.400Z"
   },
   {
    "duration": 18,
    "start_time": "2024-06-06T13:45:41.661Z"
   },
   {
    "duration": 21,
    "start_time": "2024-06-06T13:47:45.844Z"
   },
   {
    "duration": 6,
    "start_time": "2024-06-06T13:47:59.085Z"
   },
   {
    "duration": 19,
    "start_time": "2024-06-06T13:48:13.397Z"
   },
   {
    "duration": 3,
    "start_time": "2024-06-06T13:54:46.823Z"
   },
   {
    "duration": 38,
    "start_time": "2024-06-06T13:54:47.186Z"
   },
   {
    "duration": 21,
    "start_time": "2024-06-06T13:54:47.866Z"
   },
   {
    "duration": 4821,
    "start_time": "2024-06-06T13:59:27.388Z"
   },
   {
    "duration": 4,
    "start_time": "2024-06-06T13:59:42.646Z"
   },
   {
    "duration": 5,
    "start_time": "2024-06-06T14:41:29.421Z"
   },
   {
    "duration": 47,
    "start_time": "2024-06-06T14:41:29.749Z"
   },
   {
    "duration": 20,
    "start_time": "2024-06-06T14:41:30.067Z"
   },
   {
    "duration": 17,
    "start_time": "2024-06-06T14:41:59.982Z"
   },
   {
    "duration": 417,
    "start_time": "2024-06-06T14:42:58.854Z"
   },
   {
    "duration": 14,
    "start_time": "2024-06-06T14:43:06.549Z"
   },
   {
    "duration": 19,
    "start_time": "2024-06-06T14:43:13.574Z"
   },
   {
    "duration": 875,
    "start_time": "2024-06-06T14:44:36.128Z"
   },
   {
    "duration": 4,
    "start_time": "2024-06-06T14:44:39.603Z"
   },
   {
    "duration": 37,
    "start_time": "2024-06-06T14:44:39.611Z"
   },
   {
    "duration": 19,
    "start_time": "2024-06-06T14:44:40.396Z"
   },
   {
    "duration": 5,
    "start_time": "2024-06-06T14:44:43.585Z"
   },
   {
    "duration": 20,
    "start_time": "2024-06-06T14:44:43.593Z"
   },
   {
    "duration": 12,
    "start_time": "2024-06-06T14:44:44.936Z"
   },
   {
    "duration": 19,
    "start_time": "2024-06-06T14:45:03.596Z"
   },
   {
    "duration": 7,
    "start_time": "2024-06-06T14:45:07.635Z"
   },
   {
    "duration": 1285,
    "start_time": "2024-06-06T14:58:29.792Z"
   },
   {
    "duration": 34,
    "start_time": "2024-06-06T14:59:36.841Z"
   },
   {
    "duration": 19,
    "start_time": "2024-06-06T14:59:48.993Z"
   },
   {
    "duration": 9,
    "start_time": "2024-06-06T15:11:44.837Z"
   },
   {
    "duration": 7,
    "start_time": "2024-06-06T15:15:11.951Z"
   },
   {
    "duration": 7,
    "start_time": "2024-06-06T15:15:17.399Z"
   },
   {
    "duration": 46,
    "start_time": "2024-06-06T15:21:02.399Z"
   },
   {
    "duration": 6,
    "start_time": "2024-06-06T18:47:35.934Z"
   },
   {
    "duration": 27,
    "start_time": "2024-06-06T18:47:46.557Z"
   },
   {
    "duration": 5,
    "start_time": "2024-06-06T19:15:45.936Z"
   },
   {
    "duration": 4,
    "start_time": "2024-06-06T19:15:46.326Z"
   },
   {
    "duration": 4,
    "start_time": "2024-06-06T19:15:50.934Z"
   },
   {
    "duration": 47,
    "start_time": "2024-06-06T19:15:51.448Z"
   },
   {
    "duration": 18,
    "start_time": "2024-06-06T19:15:51.920Z"
   },
   {
    "duration": 6,
    "start_time": "2024-06-06T19:15:54.422Z"
   },
   {
    "duration": 18,
    "start_time": "2024-06-06T19:15:56.078Z"
   },
   {
    "duration": 29,
    "start_time": "2024-06-06T19:15:56.584Z"
   },
   {
    "duration": 15,
    "start_time": "2024-06-06T19:15:58.094Z"
   },
   {
    "duration": 25,
    "start_time": "2024-06-06T19:15:59.423Z"
   },
   {
    "duration": 21,
    "start_time": "2024-06-06T19:16:01.927Z"
   },
   {
    "duration": 25,
    "start_time": "2024-06-06T19:16:05.382Z"
   },
   {
    "duration": 10,
    "start_time": "2024-06-06T19:19:49.110Z"
   },
   {
    "duration": 9,
    "start_time": "2024-06-06T19:21:07.625Z"
   },
   {
    "duration": 8,
    "start_time": "2024-06-06T19:21:17.641Z"
   },
   {
    "duration": 7,
    "start_time": "2024-06-06T19:21:30.037Z"
   },
   {
    "duration": 6,
    "start_time": "2024-06-06T19:33:58.898Z"
   },
   {
    "duration": 11,
    "start_time": "2024-06-06T19:35:32.853Z"
   },
   {
    "duration": 5,
    "start_time": "2024-06-06T19:36:52.167Z"
   },
   {
    "duration": 14,
    "start_time": "2024-06-06T19:37:14.849Z"
   },
   {
    "duration": 847,
    "start_time": "2024-06-06T19:49:01.705Z"
   },
   {
    "duration": 817,
    "start_time": "2024-06-06T19:51:39.838Z"
   },
   {
    "duration": 817,
    "start_time": "2024-06-06T19:51:51.350Z"
   },
   {
    "duration": 810,
    "start_time": "2024-06-06T19:52:16.350Z"
   },
   {
    "duration": 919,
    "start_time": "2024-06-06T19:52:26.744Z"
   },
   {
    "duration": 729,
    "start_time": "2024-06-06T19:52:34.573Z"
   },
   {
    "duration": 759,
    "start_time": "2024-06-06T19:52:42.943Z"
   },
   {
    "duration": 11,
    "start_time": "2024-06-06T20:22:50.221Z"
   },
   {
    "duration": 11,
    "start_time": "2024-06-06T20:22:59.670Z"
   },
   {
    "duration": 7,
    "start_time": "2024-06-06T20:23:05.327Z"
   },
   {
    "duration": 35,
    "start_time": "2024-06-06T20:23:05.566Z"
   },
   {
    "duration": 24,
    "start_time": "2024-06-06T20:23:05.771Z"
   },
   {
    "duration": 5,
    "start_time": "2024-06-06T20:23:06.824Z"
   },
   {
    "duration": 18,
    "start_time": "2024-06-06T20:23:07.416Z"
   },
   {
    "duration": 27,
    "start_time": "2024-06-06T20:23:07.631Z"
   },
   {
    "duration": 12,
    "start_time": "2024-06-06T20:23:08.310Z"
   },
   {
    "duration": 33,
    "start_time": "2024-06-06T20:23:08.782Z"
   },
   {
    "duration": 22,
    "start_time": "2024-06-06T20:23:09.437Z"
   },
   {
    "duration": 91,
    "start_time": "2024-06-06T20:23:10.396Z"
   },
   {
    "duration": 9,
    "start_time": "2024-06-06T20:23:11.337Z"
   },
   {
    "duration": 6,
    "start_time": "2024-06-06T20:23:11.598Z"
   },
   {
    "duration": 10,
    "start_time": "2024-06-06T20:23:12.984Z"
   },
   {
    "duration": 5,
    "start_time": "2024-06-06T20:23:13.350Z"
   },
   {
    "duration": 747,
    "start_time": "2024-06-06T20:23:13.960Z"
   },
   {
    "duration": 11,
    "start_time": "2024-06-06T20:23:15.695Z"
   },
   {
    "duration": 11,
    "start_time": "2024-06-06T20:27:44.743Z"
   },
   {
    "duration": 10,
    "start_time": "2024-06-06T20:28:37.748Z"
   },
   {
    "duration": 8,
    "start_time": "2024-06-06T20:29:12.496Z"
   },
   {
    "duration": 724,
    "start_time": "2024-06-06T20:31:46.893Z"
   },
   {
    "duration": 209,
    "start_time": "2024-06-06T20:33:06.173Z"
   },
   {
    "duration": 29,
    "start_time": "2024-06-06T20:33:13.614Z"
   },
   {
    "duration": 12,
    "start_time": "2024-06-06T20:33:22.023Z"
   },
   {
    "duration": 13,
    "start_time": "2024-06-06T20:41:11.591Z"
   },
   {
    "duration": 13,
    "start_time": "2024-06-06T20:43:54.974Z"
   },
   {
    "duration": 14,
    "start_time": "2024-06-06T20:44:10.077Z"
   },
   {
    "duration": 14,
    "start_time": "2024-06-06T20:44:19.731Z"
   },
   {
    "duration": 4838,
    "start_time": "2024-06-07T02:30:23.893Z"
   },
   {
    "duration": 49,
    "start_time": "2024-06-07T02:30:28.736Z"
   },
   {
    "duration": 22,
    "start_time": "2024-06-07T02:30:28.787Z"
   },
   {
    "duration": 6,
    "start_time": "2024-06-07T02:30:28.812Z"
   },
   {
    "duration": 19,
    "start_time": "2024-06-07T02:30:30.796Z"
   },
   {
    "duration": 34,
    "start_time": "2024-06-07T02:30:31.439Z"
   },
   {
    "duration": 13,
    "start_time": "2024-06-07T02:30:32.642Z"
   },
   {
    "duration": 26,
    "start_time": "2024-06-07T02:30:33.431Z"
   },
   {
    "duration": 21,
    "start_time": "2024-06-07T02:30:34.784Z"
   },
   {
    "duration": 31,
    "start_time": "2024-06-07T02:30:36.537Z"
   },
   {
    "duration": 9,
    "start_time": "2024-06-07T02:30:38.654Z"
   },
   {
    "duration": 7,
    "start_time": "2024-06-07T02:30:45.038Z"
   },
   {
    "duration": 10,
    "start_time": "2024-06-07T02:30:49.133Z"
   },
   {
    "duration": 16,
    "start_time": "2024-06-07T02:38:12.084Z"
   },
   {
    "duration": 26,
    "start_time": "2024-06-07T02:38:28.226Z"
   },
   {
    "duration": 399,
    "start_time": "2024-06-07T02:41:48.437Z"
   },
   {
    "duration": 38,
    "start_time": "2024-06-07T02:43:08.686Z"
   },
   {
    "duration": 50,
    "start_time": "2024-06-07T02:43:29.131Z"
   },
   {
    "duration": 577,
    "start_time": "2024-06-07T02:43:44.229Z"
   },
   {
    "duration": 60,
    "start_time": "2024-06-07T02:44:01.674Z"
   },
   {
    "duration": 61,
    "start_time": "2024-06-07T02:44:53.508Z"
   },
   {
    "duration": 311,
    "start_time": "2024-06-07T13:42:45.324Z"
   },
   {
    "duration": 4980,
    "start_time": "2024-06-07T13:42:54.117Z"
   },
   {
    "duration": 58,
    "start_time": "2024-06-07T13:42:59.101Z"
   },
   {
    "duration": 19,
    "start_time": "2024-06-07T13:42:59.161Z"
   },
   {
    "duration": 5,
    "start_time": "2024-06-07T13:42:59.184Z"
   },
   {
    "duration": 35,
    "start_time": "2024-06-07T13:42:59.192Z"
   },
   {
    "duration": 29,
    "start_time": "2024-06-07T13:42:59.230Z"
   },
   {
    "duration": 13,
    "start_time": "2024-06-07T13:42:59.262Z"
   },
   {
    "duration": 29,
    "start_time": "2024-06-07T13:42:59.311Z"
   },
   {
    "duration": 21,
    "start_time": "2024-06-07T13:42:59.343Z"
   },
   {
    "duration": 55,
    "start_time": "2024-06-07T13:42:59.368Z"
   },
   {
    "duration": 9,
    "start_time": "2024-06-07T13:42:59.581Z"
   },
   {
    "duration": 7,
    "start_time": "2024-06-07T13:42:59.701Z"
   },
   {
    "duration": 10,
    "start_time": "2024-06-07T13:43:00.241Z"
   },
   {
    "duration": 4,
    "start_time": "2024-06-07T13:43:00.425Z"
   },
   {
    "duration": 762,
    "start_time": "2024-06-07T13:43:00.617Z"
   },
   {
    "duration": 9,
    "start_time": "2024-06-07T13:43:01.382Z"
   },
   {
    "duration": 13,
    "start_time": "2024-06-07T13:43:01.412Z"
   },
   {
    "duration": 25,
    "start_time": "2024-06-07T13:43:08.809Z"
   },
   {
    "duration": 699,
    "start_time": "2024-06-07T13:43:41.276Z"
   },
   {
    "duration": 35,
    "start_time": "2024-06-07T13:44:00.972Z"
   },
   {
    "duration": 30,
    "start_time": "2024-06-07T13:48:55.850Z"
   },
   {
    "duration": 24,
    "start_time": "2024-06-07T13:49:04.012Z"
   },
   {
    "duration": 48,
    "start_time": "2024-06-07T13:54:39.183Z"
   },
   {
    "duration": 31,
    "start_time": "2024-06-07T13:54:49.447Z"
   },
   {
    "duration": 37,
    "start_time": "2024-06-07T13:55:11.310Z"
   },
   {
    "duration": 35,
    "start_time": "2024-06-07T13:55:29.311Z"
   },
   {
    "duration": 30,
    "start_time": "2024-06-07T13:59:36.090Z"
   },
   {
    "duration": 5,
    "start_time": "2024-06-07T14:00:02.460Z"
   },
   {
    "duration": 19,
    "start_time": "2024-06-07T14:01:18.401Z"
   },
   {
    "duration": 12,
    "start_time": "2024-06-07T14:02:02.806Z"
   },
   {
    "duration": 7,
    "start_time": "2024-06-07T14:02:10.913Z"
   },
   {
    "duration": 778,
    "start_time": "2024-06-07T14:07:32.548Z"
   },
   {
    "duration": 837,
    "start_time": "2024-06-07T14:08:55.805Z"
   },
   {
    "duration": 323,
    "start_time": "2024-06-07T14:38:37.673Z"
   },
   {
    "duration": 30,
    "start_time": "2024-06-07T14:44:41.627Z"
   },
   {
    "duration": 25,
    "start_time": "2024-06-07T14:49:41.113Z"
   },
   {
    "duration": 31,
    "start_time": "2024-06-07T14:49:47.896Z"
   },
   {
    "duration": 29,
    "start_time": "2024-06-07T14:50:06.287Z"
   },
   {
    "duration": 28,
    "start_time": "2024-06-07T14:50:12.470Z"
   },
   {
    "duration": 27,
    "start_time": "2024-06-07T14:50:19.983Z"
   },
   {
    "duration": 27,
    "start_time": "2024-06-07T14:51:39.283Z"
   },
   {
    "duration": 34,
    "start_time": "2024-06-07T14:54:55.483Z"
   },
   {
    "duration": 271,
    "start_time": "2024-06-07T14:55:09.379Z"
   },
   {
    "duration": 448,
    "start_time": "2024-06-07T14:55:58.834Z"
   },
   {
    "duration": 35,
    "start_time": "2024-06-07T15:24:10.527Z"
   },
   {
    "duration": 27,
    "start_time": "2024-06-07T15:24:24.527Z"
   },
   {
    "duration": 29,
    "start_time": "2024-06-07T15:24:58.464Z"
   },
   {
    "duration": 9,
    "start_time": "2024-06-07T15:25:11.783Z"
   },
   {
    "duration": 554,
    "start_time": "2024-06-07T15:25:53.389Z"
   },
   {
    "duration": 537,
    "start_time": "2024-06-07T15:26:26.679Z"
   },
   {
    "duration": 329,
    "start_time": "2024-06-07T15:26:40.760Z"
   },
   {
    "duration": 24,
    "start_time": "2024-06-07T15:27:16.985Z"
   },
   {
    "duration": 448,
    "start_time": "2024-06-07T15:27:37.918Z"
   },
   {
    "duration": 623,
    "start_time": "2024-06-07T15:29:29.612Z"
   },
   {
    "duration": 501,
    "start_time": "2024-06-07T15:29:39.135Z"
   },
   {
    "duration": 535,
    "start_time": "2024-06-07T15:29:46.863Z"
   },
   {
    "duration": 600,
    "start_time": "2024-06-07T15:29:51.746Z"
   },
   {
    "duration": 498,
    "start_time": "2024-06-07T15:29:59.178Z"
   },
   {
    "duration": 24,
    "start_time": "2024-06-07T15:33:28.925Z"
   },
   {
    "duration": 38,
    "start_time": "2024-06-07T15:33:33.836Z"
   },
   {
    "duration": 429,
    "start_time": "2024-06-07T15:35:25.216Z"
   },
   {
    "duration": 342,
    "start_time": "2024-06-07T15:35:55.270Z"
   },
   {
    "duration": 349,
    "start_time": "2024-06-07T15:37:04.177Z"
   },
   {
    "duration": 340,
    "start_time": "2024-06-07T15:37:13.337Z"
   },
   {
    "duration": 322,
    "start_time": "2024-06-07T15:37:21.752Z"
   },
   {
    "duration": 383,
    "start_time": "2024-06-07T15:38:11.398Z"
   },
   {
    "duration": 11,
    "start_time": "2024-06-07T15:38:19.004Z"
   },
   {
    "duration": 15,
    "start_time": "2024-06-07T15:38:26.829Z"
   },
   {
    "duration": 10,
    "start_time": "2024-06-07T15:38:31.317Z"
   },
   {
    "duration": 314,
    "start_time": "2024-06-07T15:39:22.136Z"
   },
   {
    "duration": 674,
    "start_time": "2024-06-07T15:58:39.708Z"
   },
   {
    "duration": 4982,
    "start_time": "2024-06-08T01:38:42.737Z"
   },
   {
    "duration": 63,
    "start_time": "2024-06-08T01:38:47.724Z"
   },
   {
    "duration": 27,
    "start_time": "2024-06-08T01:38:47.790Z"
   },
   {
    "duration": 5,
    "start_time": "2024-06-08T01:38:47.821Z"
   },
   {
    "duration": 19,
    "start_time": "2024-06-08T01:38:47.829Z"
   },
   {
    "duration": 68,
    "start_time": "2024-06-08T01:38:47.851Z"
   },
   {
    "duration": 14,
    "start_time": "2024-06-08T01:38:47.923Z"
   },
   {
    "duration": 26,
    "start_time": "2024-06-08T01:38:48.425Z"
   },
   {
    "duration": 21,
    "start_time": "2024-06-08T01:38:49.224Z"
   },
   {
    "duration": 25,
    "start_time": "2024-06-08T01:38:50.408Z"
   },
   {
    "duration": 9,
    "start_time": "2024-06-08T01:38:52.934Z"
   },
   {
    "duration": 7,
    "start_time": "2024-06-08T01:38:53.238Z"
   },
   {
    "duration": 10,
    "start_time": "2024-06-08T01:38:54.124Z"
   },
   {
    "duration": 5,
    "start_time": "2024-06-08T01:38:54.508Z"
   },
   {
    "duration": 749,
    "start_time": "2024-06-08T01:38:54.889Z"
   },
   {
    "duration": 10,
    "start_time": "2024-06-08T01:38:55.642Z"
   },
   {
    "duration": 13,
    "start_time": "2024-06-08T01:38:55.992Z"
   },
   {
    "duration": 34,
    "start_time": "2024-06-08T01:38:58.107Z"
   },
   {
    "duration": 28,
    "start_time": "2024-06-08T01:38:58.873Z"
   },
   {
    "duration": 32,
    "start_time": "2024-06-08T01:38:59.552Z"
   },
   {
    "duration": 9,
    "start_time": "2024-06-08T01:38:59.884Z"
   },
   {
    "duration": 587,
    "start_time": "2024-06-08T01:39:01.457Z"
   },
   {
    "duration": 591,
    "start_time": "2024-06-08T01:39:02.603Z"
   },
   {
    "duration": 322,
    "start_time": "2024-06-08T01:39:20.853Z"
   },
   {
    "duration": 5243,
    "start_time": "2024-06-08T07:00:22.603Z"
   },
   {
    "duration": 64,
    "start_time": "2024-06-08T07:00:27.851Z"
   },
   {
    "duration": 20,
    "start_time": "2024-06-08T07:00:27.918Z"
   },
   {
    "duration": 5,
    "start_time": "2024-06-08T07:00:27.944Z"
   },
   {
    "duration": 19,
    "start_time": "2024-06-08T07:00:27.953Z"
   },
   {
    "duration": 76,
    "start_time": "2024-06-08T07:00:27.975Z"
   },
   {
    "duration": 15,
    "start_time": "2024-06-08T07:00:28.055Z"
   },
   {
    "duration": 55,
    "start_time": "2024-06-08T07:00:28.074Z"
   },
   {
    "duration": 22,
    "start_time": "2024-06-08T07:00:28.133Z"
   },
   {
    "duration": 34,
    "start_time": "2024-06-08T07:00:29.683Z"
   },
   {
    "duration": 9,
    "start_time": "2024-06-08T07:00:31.182Z"
   },
   {
    "duration": 7,
    "start_time": "2024-06-08T07:00:31.612Z"
   },
   {
    "duration": 11,
    "start_time": "2024-06-08T07:00:32.512Z"
   },
   {
    "duration": 5,
    "start_time": "2024-06-08T07:00:32.750Z"
   },
   {
    "duration": 842,
    "start_time": "2024-06-08T07:00:33.025Z"
   },
   {
    "duration": 12,
    "start_time": "2024-06-08T07:00:33.871Z"
   },
   {
    "duration": 15,
    "start_time": "2024-06-08T07:00:34.780Z"
   },
   {
    "duration": 34,
    "start_time": "2024-06-08T07:00:36.071Z"
   },
   {
    "duration": 28,
    "start_time": "2024-06-08T07:00:36.715Z"
   },
   {
    "duration": 35,
    "start_time": "2024-06-08T07:00:37.009Z"
   },
   {
    "duration": 9,
    "start_time": "2024-06-08T07:00:37.406Z"
   },
   {
    "duration": 533,
    "start_time": "2024-06-08T07:00:38.259Z"
   },
   {
    "duration": 712,
    "start_time": "2024-06-08T07:00:38.796Z"
   },
   {
    "duration": 395,
    "start_time": "2024-06-08T07:00:39.516Z"
   },
   {
    "duration": 32,
    "start_time": "2024-06-08T07:00:40.538Z"
   },
   {
    "duration": 490,
    "start_time": "2024-06-08T07:00:40.753Z"
   },
   {
    "duration": 345,
    "start_time": "2024-06-08T07:00:41.520Z"
   },
   {
    "duration": 10,
    "start_time": "2024-06-08T07:00:41.869Z"
   },
   {
    "duration": 12,
    "start_time": "2024-06-08T07:00:41.954Z"
   },
   {
    "duration": 33,
    "start_time": "2024-06-08T07:05:57.527Z"
   },
   {
    "duration": 433,
    "start_time": "2024-06-08T07:07:31.617Z"
   },
   {
    "duration": 842,
    "start_time": "2024-06-08T07:08:02.186Z"
   },
   {
    "duration": 705,
    "start_time": "2024-06-08T07:13:30.890Z"
   },
   {
    "duration": 753,
    "start_time": "2024-06-08T07:16:21.317Z"
   },
   {
    "duration": 887,
    "start_time": "2024-06-08T07:18:08.922Z"
   },
   {
    "duration": 31,
    "start_time": "2024-06-08T07:52:06.905Z"
   },
   {
    "duration": 4,
    "start_time": "2024-06-08T07:53:34.664Z"
   },
   {
    "duration": 14,
    "start_time": "2024-06-08T07:54:21.462Z"
   },
   {
    "duration": 14,
    "start_time": "2024-06-08T07:56:14.931Z"
   },
   {
    "duration": 12,
    "start_time": "2024-06-08T08:00:17.248Z"
   },
   {
    "duration": 4,
    "start_time": "2024-06-08T08:24:04.525Z"
   },
   {
    "duration": 4,
    "start_time": "2024-06-08T08:24:09.394Z"
   },
   {
    "duration": 40,
    "start_time": "2024-06-08T08:24:09.724Z"
   },
   {
    "duration": 19,
    "start_time": "2024-06-08T08:24:09.943Z"
   },
   {
    "duration": 7,
    "start_time": "2024-06-08T08:24:11.167Z"
   },
   {
    "duration": 18,
    "start_time": "2024-06-08T08:24:11.796Z"
   },
   {
    "duration": 28,
    "start_time": "2024-06-08T08:24:12.042Z"
   },
   {
    "duration": 14,
    "start_time": "2024-06-08T08:24:12.633Z"
   },
   {
    "duration": 29,
    "start_time": "2024-06-08T08:24:13.073Z"
   },
   {
    "duration": 20,
    "start_time": "2024-06-08T08:24:13.550Z"
   },
   {
    "duration": 23,
    "start_time": "2024-06-08T08:24:14.561Z"
   },
   {
    "duration": 9,
    "start_time": "2024-06-08T08:24:15.487Z"
   },
   {
    "duration": 6,
    "start_time": "2024-06-08T08:24:15.763Z"
   },
   {
    "duration": 15,
    "start_time": "2024-06-08T08:24:16.610Z"
   },
   {
    "duration": 6,
    "start_time": "2024-06-08T08:24:16.876Z"
   },
   {
    "duration": 753,
    "start_time": "2024-06-08T08:24:17.172Z"
   },
   {
    "duration": 10,
    "start_time": "2024-06-08T08:24:17.929Z"
   },
   {
    "duration": 13,
    "start_time": "2024-06-08T08:24:20.171Z"
   },
   {
    "duration": 33,
    "start_time": "2024-06-08T08:24:21.313Z"
   },
   {
    "duration": 28,
    "start_time": "2024-06-08T08:24:21.714Z"
   },
   {
    "duration": 32,
    "start_time": "2024-06-08T08:24:21.898Z"
   },
   {
    "duration": 9,
    "start_time": "2024-06-08T08:24:22.121Z"
   },
   {
    "duration": 617,
    "start_time": "2024-06-08T08:24:22.777Z"
   },
   {
    "duration": 702,
    "start_time": "2024-06-08T08:24:23.398Z"
   },
   {
    "duration": 433,
    "start_time": "2024-06-08T08:24:24.338Z"
   },
   {
    "duration": 29,
    "start_time": "2024-06-08T08:24:25.544Z"
   },
   {
    "duration": 465,
    "start_time": "2024-06-08T08:24:25.840Z"
   },
   {
    "duration": 334,
    "start_time": "2024-06-08T08:24:26.652Z"
   },
   {
    "duration": 10,
    "start_time": "2024-06-08T08:24:26.990Z"
   },
   {
    "duration": 9,
    "start_time": "2024-06-08T08:24:27.218Z"
   },
   {
    "duration": 895,
    "start_time": "2024-06-08T08:24:27.763Z"
   },
   {
    "duration": 753,
    "start_time": "2024-06-08T08:24:28.662Z"
   },
   {
    "duration": 819,
    "start_time": "2024-06-08T08:24:29.425Z"
   },
   {
    "duration": 14,
    "start_time": "2024-06-08T08:24:30.536Z"
   },
   {
    "duration": 18,
    "start_time": "2024-06-08T08:24:31.118Z"
   },
   {
    "duration": 14,
    "start_time": "2024-06-08T08:24:55.837Z"
   },
   {
    "duration": 15,
    "start_time": "2024-06-08T08:25:10.366Z"
   },
   {
    "duration": 13,
    "start_time": "2024-06-08T08:25:12.225Z"
   },
   {
    "duration": 894,
    "start_time": "2024-06-08T08:25:25.895Z"
   },
   {
    "duration": 576,
    "start_time": "2024-06-08T08:26:30.723Z"
   },
   {
    "duration": 476,
    "start_time": "2024-06-08T08:27:09.087Z"
   },
   {
    "duration": 520,
    "start_time": "2024-06-08T08:28:39.984Z"
   },
   {
    "duration": 524,
    "start_time": "2024-06-08T08:29:17.227Z"
   },
   {
    "duration": 634,
    "start_time": "2024-06-08T08:29:31.402Z"
   },
   {
    "duration": 476,
    "start_time": "2024-06-08T08:29:45.477Z"
   },
   {
    "duration": 506,
    "start_time": "2024-06-08T08:29:53.918Z"
   },
   {
    "duration": 475,
    "start_time": "2024-06-08T08:31:07.880Z"
   },
   {
    "duration": 493,
    "start_time": "2024-06-08T08:31:41.245Z"
   },
   {
    "duration": 278,
    "start_time": "2024-06-08T08:36:23.744Z"
   },
   {
    "duration": 727,
    "start_time": "2024-06-08T08:45:24.491Z"
   },
   {
    "duration": 34,
    "start_time": "2024-06-08T08:52:52.750Z"
   },
   {
    "duration": 855,
    "start_time": "2024-06-08T08:55:27.020Z"
   }
  ],
  "kernelspec": {
   "display_name": "Python 3 (ipykernel)",
   "language": "python",
   "name": "python3"
  },
  "language_info": {
   "codemirror_mode": {
    "name": "ipython",
    "version": 3
   },
   "file_extension": ".py",
   "mimetype": "text/x-python",
   "name": "python",
   "nbconvert_exporter": "python",
   "pygments_lexer": "ipython3",
   "version": "3.9.19"
  },
  "toc": {
   "base_numbering": 1,
   "nav_menu": {},
   "number_sections": true,
   "sideBar": true,
   "skip_h1_title": true,
   "title_cell": "Table of Contents",
   "title_sidebar": "Contents",
   "toc_cell": false,
   "toc_position": {
    "height": "calc(100% - 180px)",
    "left": "10px",
    "top": "150px",
    "width": "314.236px"
   },
   "toc_section_display": true,
   "toc_window_display": false
  }
 },
 "nbformat": 4,
 "nbformat_minor": 2
}
